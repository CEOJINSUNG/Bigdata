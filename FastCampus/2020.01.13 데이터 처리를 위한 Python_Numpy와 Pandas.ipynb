{
 "cells": [
  {
   "cell_type": "markdown",
   "metadata": {},
   "source": [
    "## Numpy"
   ]
  },
  {
   "cell_type": "markdown",
   "metadata": {},
   "source": [
    "###### 연습문제\n",
    "1. 로또 번호 자동 생성기(함수로)를 만드시오\n",
    "2. numpy를 이용하여 pi(원주율) 값을 계산하시오\n",
    "- 몬테카를로 방법 이용하기(난수 발생시켜서 근사값을 만드는 것임)"
   ]
  },
  {
   "cell_type": "code",
   "execution_count": 6,
   "metadata": {},
   "outputs": [],
   "source": [
    "import numpy as np"
   ]
  },
  {
   "cell_type": "code",
   "execution_count": 7,
   "metadata": {},
   "outputs": [
    {
     "data": {
      "text/plain": [
       "array([33,  2, 12, 32, 14, 23])"
      ]
     },
     "execution_count": 7,
     "metadata": {},
     "output_type": "execute_result"
    }
   ],
   "source": [
    "def lotto_nums():\n",
    "    return np.random.choice(np.arange(1, 46), size=6, replace=False)\n",
    "\n",
    "lotto_nums()"
   ]
  },
  {
   "cell_type": "markdown",
   "metadata": {},
   "source": [
    "pi/4 : 1 ={4분원 안에 생성된 점 개수 : 전체 시도 횟수}"
   ]
  },
  {
   "cell_type": "code",
   "execution_count": 8,
   "metadata": {},
   "outputs": [
    {
     "data": {
      "text/plain": [
       "3.1415632"
      ]
     },
     "execution_count": 8,
     "metadata": {},
     "output_type": "execute_result"
    }
   ],
   "source": [
    "total = int(1e7)\n",
    "points = np.random.rand(total, 2)\n",
    "4 * np.sum(np.sum(points**2, axis=1) < 1)/total"
   ]
  },
  {
   "cell_type": "code",
   "execution_count": 9,
   "metadata": {},
   "outputs": [],
   "source": [
    "import numpy as np\n",
    "import matplotlib.pyplot as plt\n",
    "%matplotlib inline\n",
    "\n",
    "#세번째 줄은 이 그래프는 jupyer notebook에서 그려진 다는 것을 말한다."
   ]
  },
  {
   "cell_type": "markdown",
   "metadata": {},
   "source": [
    "## Pandas"
   ]
  },
  {
   "cell_type": "code",
   "execution_count": 11,
   "metadata": {},
   "outputs": [
    {
     "name": "stdout",
     "output_type": "stream",
     "text": [
      "1    0\n",
      "2    1\n",
      "3    2\n",
      "dtype: int32\n"
     ]
    }
   ],
   "source": [
    "import pandas as pd\n",
    "a = pd.Series(np.arange(3), [1,2,3])\n",
    "print(a)"
   ]
  },
  {
   "cell_type": "markdown",
   "metadata": {},
   "source": [
    "### groupby 함수\n",
    "- 그룹 데이터에 적용 가능한 통계 함수(NaN은 제외하여 연산)\n",
    "- count - 데이터 개수\n",
    "- sum - 데이터의 합\n",
    "- mean, std, var - 평균, 표준편차, 분산\n",
    "- min, max - 최소, 최대값"
   ]
  },
  {
   "cell_type": "markdown",
   "metadata": {},
   "source": [
    "### transform 함수\n",
    "- groupby 후 transform 함수를 사용하면 원래의 index를 유지한 상태로 통계함수를 적용\n",
    "- 전체 데이터의 집계가 아닌 각 그룹에서의 집계를 계산\n",
    "- 따라서 새로 생성된 데이터를 원본 dataframe과 합치기 쉬움"
   ]
  },
  {
   "cell_type": "markdown",
   "metadata": {},
   "source": [
    "### pivot\n",
    "- dataframe의 형태를 변경\n",
    "- 인덱스, 컬럼, 데이터로 사용할 컬럼을 명시"
   ]
  },
  {
   "cell_type": "markdown",
   "metadata": {},
   "source": [
    "### pivot_table\n",
    "- 기능적으로 pivot과 동일\n",
    "- pivot과의 차이점\n",
    "- 중복되는 모호한 값이 있을 경우, aggregation 함수 사용하여 값을 채움"
   ]
  },
  {
   "cell_type": "markdown",
   "metadata": {},
   "source": [
    "### stack & unstack\n",
    "- stack : 컬럼 레벨에서 인덱스 레벨로 dataframe 변경\n",
    "\n",
    "- 즉, 데이터를 쌓아올리는 개념으로 이해하면 쉬움\n",
    "- unstack : 인덱스 레벨에서 컬럼 레벨로 dataframe 변경\n",
    "\n",
    "- stack의 반대 operation\n",
    "- 둘은 역의 관계에 있음"
   ]
  },
  {
   "cell_type": "markdown",
   "metadata": {},
   "source": [
    "### concat 함수 사용하여 dataframe 병합하기\n",
    "- pandas.concat 함수\n",
    "- 축을 따라 dataframe을 병합 가능\n",
    "- 기본 axis = 0 -> 행단위 병합"
   ]
  },
  {
   "cell_type": "markdown",
   "metadata": {},
   "source": [
    "### dataframe merge\n",
    " - SQL의 join처럼 특정한 column을 기준으로 병합\n",
    "   - join 방식: how 파라미터를 통해 명시\n",
    "     - inner: 기본값, 일치하는 값이 있는 경우 \n",
    "     - left: left outer join\n",
    "     - right: right outer join\n",
    "     - outer: full outer join\n",
    "     \n",
    " - pandas.merge 함수가 사용됨"
   ]
  },
  {
   "cell_type": "markdown",
   "metadata": {},
   "source": [
    "### join 함수\n",
    " - 내부적으로 pandas.merge 함수 사용\n",
    " - 기본적으로 index를 사용하여 left join"
   ]
  }
 ],
 "metadata": {
  "kernelspec": {
   "display_name": "Python 3",
   "language": "python",
   "name": "python3"
  },
  "language_info": {
   "codemirror_mode": {
    "name": "ipython",
    "version": 3
   },
   "file_extension": ".py",
   "mimetype": "text/x-python",
   "name": "python",
   "nbconvert_exporter": "python",
   "pygments_lexer": "ipython3",
   "version": "3.6.4"
  }
 },
 "nbformat": 4,
 "nbformat_minor": 2
}
