{
 "cells": [
  {
   "cell_type": "markdown",
   "metadata": {},
   "source": [
    "### 광고 Domain Knowledge\n",
    "\n",
    "#### 광고 성과지표\n",
    "1. CTR(Click Through Rate) = 클릭수/노출수*100, 높을 수록 좋음\n",
    "2. CPM(Cost Per Mile) = 광고 비용/노출수 *1000, 낮을 수록 좋음\n",
    "3. CPC(Cost Per Click) = 광고 비용/ 클릭수, 낮을 수록 좋음\n",
    "4. CPA(Cost Per Action) = 광고 비용/구매수, 낮을 수록 좋음"
   ]
  },
  {
   "cell_type": "code",
   "execution_count": 1,
   "metadata": {},
   "outputs": [],
   "source": [
    "imp=10000\n",
    "clk=100\n",
    "conv=10\n",
    "cost=100000"
   ]
  },
  {
   "cell_type": "code",
   "execution_count": 2,
   "metadata": {},
   "outputs": [],
   "source": [
    "ctr=clk/imp*100"
   ]
  },
  {
   "cell_type": "code",
   "execution_count": 3,
   "metadata": {},
   "outputs": [],
   "source": [
    "cpm=cost/imp*1000"
   ]
  },
  {
   "cell_type": "code",
   "execution_count": 4,
   "metadata": {},
   "outputs": [],
   "source": [
    "cpc=cost/clk"
   ]
  },
  {
   "cell_type": "code",
   "execution_count": 5,
   "metadata": {},
   "outputs": [],
   "source": [
    "cpa=cost/conv"
   ]
  },
  {
   "cell_type": "markdown",
   "metadata": {},
   "source": [
    "### Matplotlib\n",
    "#### - 시각화 라이브러리\n",
    "#### #데이터 분석과정과 시각화\n",
    "- 머신러닝의 과정\n",
    "  1. 데이터 수집\n",
    "  2. 데이터 전처리\n",
    "  3. 데이터 탐색\n",
    "  4. 모델 선택\n",
    "  5. 모델평가 및 적용\n",
    "\n",
    "#### #시각화의 필요성\n",
    "1. 대량의 데이터 파악가능\n",
    "2. 데이터의 패턴 파악가능"
   ]
  },
  {
   "cell_type": "code",
   "execution_count": 7,
   "metadata": {},
   "outputs": [],
   "source": [
    "import matplotlib.pyplot as plt"
   ]
  },
  {
   "cell_type": "code",
   "execution_count": null,
   "metadata": {},
   "outputs": [],
   "source": [
    "import padn"
   ]
  }
 ],
 "metadata": {
  "kernelspec": {
   "display_name": "Python 3",
   "language": "python",
   "name": "python3"
  },
  "language_info": {
   "codemirror_mode": {
    "name": "ipython",
    "version": 3
   },
   "file_extension": ".py",
   "mimetype": "text/x-python",
   "name": "python",
   "nbconvert_exporter": "python",
   "pygments_lexer": "ipython3",
   "version": "3.6.4"
  }
 },
 "nbformat": 4,
 "nbformat_minor": 2
}
