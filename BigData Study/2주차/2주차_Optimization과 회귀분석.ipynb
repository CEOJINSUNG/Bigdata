{
 "cells": [
  {
   "cell_type": "markdown",
   "metadata": {},
   "source": [
    "## 2주차_Optimization과 회귀분석\n",
    "### 첫번째 캐글 필사(Optimization)\n",
    "- https://www.kaggle.com/pavansanagapati/automated-hyperparameter-tuning"
   ]
  },
  {
   "cell_type": "markdown",
   "metadata": {},
   "source": [
    "#### 1. Introduction"
   ]
  },
  {
   "cell_type": "markdown",
   "metadata": {},
   "source": [
    "- Hyperparameter은 학습과정 전에 어느 값이 세팅 되어야 하는지에 대한 것이다.\n",
    "- Hyperparameter를 조정하기 위해 어떤 것을 최적화해야 하는가?\n",
    "\n",
    "1. an estimator(regressor or classifier such as sklearn.svm.SVC())\n",
    "2. a parameter space\n",
    "3. a method for searching or sampling candidates\n",
    "4. a cross-validation scheme\n",
    "5. a score function"
   ]
  },
  {
   "cell_type": "markdown",
   "metadata": {},
   "source": [
    "- Scikit-learn에서 후보들을 탐색하고 찾는 2가지의 일반적인 접근이 존재함\n",
    "\n",
    "1. GridSearchCV: 값들이 주어졌을 때 모든 매개변수의 조합을 고려하는 방식이다. \n",
    "2. RandomizedSearchCV: 특정 분배와 함께 매개변수 공간으로부터 수많은 후보자들을 샘플링하는 방식이다. 추가적으로 적은 수의 매개변수 집합은 예측 성능에 있어 큰 영향을 끼친다."
   ]
  },
  {
   "cell_type": "code",
   "execution_count": 1,
   "metadata": {},
   "outputs": [],
   "source": [
    "import pandas as pd\n",
    "from sklearn.preprocessing import StandardScaler\n",
    "from sklearn.model_selection import train_test_split\n",
    "df = pd.read_csv(\"../../../../data/creditcard/creditcard.csv\", na_values = '#NAME?')"
   ]
  },
  {
   "cell_type": "code",
   "execution_count": 2,
   "metadata": {},
   "outputs": [],
   "source": [
    "X = df[['V17', 'V9', 'V6', 'V12']]\n",
    "Y = df['Class']"
   ]
  },
  {
   "cell_type": "code",
   "execution_count": 3,
   "metadata": {},
   "outputs": [],
   "source": [
    "X_Train, X_Test, Y_Train, Y_Test = train_test_split(X, Y, test_size = 0.30, random_state = 101)"
   ]
  },
  {
   "cell_type": "markdown",
   "metadata": {},
   "source": [
    "#### 2. Manual Search"
   ]
  },
  {
   "cell_type": "code",
   "execution_count": 4,
   "metadata": {},
   "outputs": [
    {
     "name": "stdout",
     "output_type": "stream",
     "text": [
      "[[85289    10]\n",
      " [   34   110]]\n",
      "              precision    recall  f1-score   support\n",
      "\n",
      "           0       1.00      1.00      1.00     85299\n",
      "           1       0.92      0.76      0.83       144\n",
      "\n",
      "    accuracy                           1.00     85443\n",
      "   macro avg       0.96      0.88      0.92     85443\n",
      "weighted avg       1.00      1.00      1.00     85443\n",
      "\n"
     ]
    }
   ],
   "source": [
    "from sklearn.metrics import classification_report, confusion_matrix\n",
    "from sklearn.ensemble import RandomForestClassifier\n",
    "from sklearn.metrics import accuracy_score\n",
    "\n",
    "model = RandomForestClassifier(random_state = 101).fit(X_Train, Y_Train)\n",
    "predictionforest = model.predict(X_Test)\n",
    "print(confusion_matrix(Y_Test, predictionforest))\n",
    "print(classification_report(Y_Test, predictionforest))\n",
    "acc1 = accuracy_score(Y_Test, predictionforest)"
   ]
  },
  {
   "cell_type": "markdown",
   "metadata": {},
   "source": [
    "- 일반적인 manual search를 사용할 경우 우리의 경험과 판단에 기반해 매개변수를 선택해야한다. 모델을 평가하고 정확성을 측정해 그 과정을 계속 시도해야 한다. \n",
    "\n",
    "- Random Forest Classifier를 기반한 주요 매개변수는 다음과 같다.\n",
    "\n",
    "1. criterion = the function used to evaluate the quality of a split(train_test_split 함수를 측정하는 것 같음)\n",
    "2. max_depth = maximum number of levels allowed in each tree\n",
    "3. max_features = maximum number of features considered when splitting a node\n",
    "4. min_samples_leaf = minimum number of samples which can be stored in a tree leaf\n",
    "5. min_samples_split = minimum number of samples necessary in a node to cause node splitting\n",
    "6. n_estimators = number of trees in the ensemble"
   ]
  },
  {
   "cell_type": "code",
   "execution_count": 5,
   "metadata": {},
   "outputs": [
    {
     "name": "stdout",
     "output_type": "stream",
     "text": [
      "[[85288    11]\n",
      " [   41   103]]\n",
      "              precision    recall  f1-score   support\n",
      "\n",
      "           0       1.00      1.00      1.00     85299\n",
      "           1       0.90      0.72      0.80       144\n",
      "\n",
      "    accuracy                           1.00     85443\n",
      "   macro avg       0.95      0.86      0.90     85443\n",
      "weighted avg       1.00      1.00      1.00     85443\n",
      "\n"
     ]
    }
   ],
   "source": [
    "model = RandomForestClassifier(n_estimators=10, random_state = 101).fit(X_Train, Y_Train)\n",
    "predictionforest = model.predict(X_Test)\n",
    "print(confusion_matrix(Y_Test, predictionforest))\n",
    "print(classification_report(Y_Test, predictionforest))\n",
    "acc2 = accuracy_score(Y_Test, predictionforest)"
   ]
  },
  {
   "cell_type": "markdown",
   "metadata": {},
   "source": [
    "#### 3. Random Search\n",
    "- 이 방식은 train/test 모델을 랜덤으로 나눠서 측정하는 방식이고 이때 Cross-Validation을 사용할 것이다. \n",
    "- Cross-Validation 방법 중 가장 흔한 것은 K-Fold Validation으로 training set을 N개로 나누고 반복적으로 N-1로 훈련시키고 남은 요소로 테스트하는 방식이다. "
   ]
  },
  {
   "cell_type": "code",
   "execution_count": 6,
   "metadata": {},
   "outputs": [
    {
     "name": "stdout",
     "output_type": "stream",
     "text": [
      "Fitting 4 folds for each of 10 candidates, totalling 40 fits\n"
     ]
    },
    {
     "name": "stderr",
     "output_type": "stream",
     "text": [
      "[Parallel(n_jobs=-1)]: Using backend LokyBackend with 12 concurrent workers.\n",
      "[Parallel(n_jobs=-1)]: Done  40 out of  40 | elapsed:   16.2s finished\n"
     ]
    },
    {
     "data": {
      "text/plain": [
       "RandomizedSearchCV(cv=4, estimator=RandomForestClassifier(), n_jobs=-1,\n",
       "                   param_distributions={'criterion': ['entropy', 'gini'],\n",
       "                                        'max_depth': [2],\n",
       "                                        'max_features': ['auto', 'sqrt'],\n",
       "                                        'min_samples_leaf': [4, 6, 8],\n",
       "                                        'min_samples_split': [5, 7, 10],\n",
       "                                        'n_estimators': [20]},\n",
       "                   random_state=101, verbose=1)"
      ]
     },
     "execution_count": 6,
     "metadata": {},
     "output_type": "execute_result"
    }
   ],
   "source": [
    "import numpy as np\n",
    "from sklearn.model_selection import RandomizedSearchCV\n",
    "from sklearn.model_selection import cross_val_score\n",
    "\n",
    "random_search = {\n",
    "    'criterion': ['entropy', 'gini'],\n",
    "    'max_depth': [2],\n",
    "    'max_features': ['auto', 'sqrt'],\n",
    "    'min_samples_leaf': [4, 6, 8],\n",
    "    'min_samples_split': [5, 7, 10],\n",
    "    'n_estimators': [20]\n",
    "}\n",
    "\n",
    "clf = RandomForestClassifier()\n",
    "model = RandomizedSearchCV(estimator = clf, param_distributions = random_search, n_iter = 10, cv = 4, verbose = 1, random_state = 101, n_jobs = -1)\n",
    "model.fit(X_Train, Y_Train)"
   ]
  },
  {
   "cell_type": "code",
   "execution_count": 7,
   "metadata": {},
   "outputs": [
    {
     "data": {
      "text/plain": [
       "<AxesSubplot:xlabel='param_criterion', ylabel='param_n_estimators'>"
      ]
     },
     "execution_count": 7,
     "metadata": {},
     "output_type": "execute_result"
    },
    {
     "data": {
      "image/png": "[encoded data removed]",
      "text/plain": [
       "<Figure size 432x288 with 2 Axes>"
      ]
     },
     "metadata": {
      "needs_background": "light"
     },
     "output_type": "display_data"
    }
   ],
   "source": [
    "import seaborn as sns\n",
    "table = pd.pivot_table(pd.DataFrame(model.cv_results_), values = 'mean_test_score', index = 'param_n_estimators', columns = 'param_criterion')\n",
    "sns.heatmap(table)"
   ]
  },
  {
   "cell_type": "code",
   "execution_count": 8,
   "metadata": {},
   "outputs": [
    {
     "name": "stdout",
     "output_type": "stream",
     "text": [
      "[[85284    15]\n",
      " [   61    83]]\n",
      "              precision    recall  f1-score   support\n",
      "\n",
      "           0       1.00      1.00      1.00     85299\n",
      "           1       0.85      0.58      0.69       144\n",
      "\n",
      "    accuracy                           1.00     85443\n",
      "   macro avg       0.92      0.79      0.84     85443\n",
      "weighted avg       1.00      1.00      1.00     85443\n",
      "\n"
     ]
    }
   ],
   "source": [
    "predictionforest = model.best_estimator_.predict(X_Test)\n",
    "print(confusion_matrix(Y_Test, predictionforest))\n",
    "print(classification_report(Y_Test, predictionforest))\n",
    "acc3 = accuracy_score(Y_Test, predictionforest)"
   ]
  },
  {
   "cell_type": "markdown",
   "metadata": {},
   "source": [
    "#### 4. Grid Search\n",
    "- 이 방식에서 매개변수 조합의 각각에 모델을 훈련/평가를 하게 된다."
   ]
  },
  {
   "cell_type": "code",
   "execution_count": 9,
   "metadata": {
    "scrolled": true
   },
   "outputs": [
    {
     "name": "stdout",
     "output_type": "stream",
     "text": [
      "Fitting 4 folds for each of 36 candidates, totalling 144 fits\n"
     ]
    },
    {
     "name": "stderr",
     "output_type": "stream",
     "text": [
      "[Parallel(n_jobs=-1)]: Using backend LokyBackend with 12 concurrent workers.\n",
      "[Parallel(n_jobs=-1)]: Done  48 tasks      | elapsed:   17.1s\n",
      "[Parallel(n_jobs=-1)]: Done 144 out of 144 | elapsed:   41.0s finished\n"
     ]
    },
    {
     "name": "stdout",
     "output_type": "stream",
     "text": [
      "[[85279    20]\n",
      " [   47    97]]\n",
      "              precision    recall  f1-score   support\n",
      "\n",
      "           0       1.00      1.00      1.00     85299\n",
      "           1       0.83      0.67      0.74       144\n",
      "\n",
      "    accuracy                           1.00     85443\n",
      "   macro avg       0.91      0.84      0.87     85443\n",
      "weighted avg       1.00      1.00      1.00     85443\n",
      "\n"
     ]
    }
   ],
   "source": [
    "from sklearn.model_selection import GridSearchCV\n",
    "\n",
    "grid_search = {\n",
    "    'criterion': ['entropy', 'gini'],\n",
    "    'max_depth': [2],\n",
    "    'max_features': ['auto', 'sqrt'],\n",
    "    'min_samples_leaf': [4, 6, 8],\n",
    "    'min_samples_split': [5, 7, 10],\n",
    "    'n_estimators': [20]\n",
    "}\n",
    "\n",
    "clf = RandomForestClassifier()\n",
    "model = GridSearchCV(estimator = clf, param_grid = grid_search, cv = 4, verbose = 5, n_jobs = -1)\n",
    "model.fit(X_Train, Y_Train)\n",
    "\n",
    "predictionforest = model.best_estimator_.predict(X_Test)\n",
    "print(confusion_matrix(Y_Test, predictionforest))\n",
    "print(classification_report(Y_Test, predictionforest))\n",
    "acc4 = accuracy_score(Y_Test, predictionforest)"
   ]
  },
  {
   "cell_type": "markdown",
   "metadata": {},
   "source": [
    "#### 5. Automated Hyperparameter Tuning"
   ]
  },
  {
   "cell_type": "markdown",
   "metadata": {},
   "source": [
    "1) Bayesian Optimization using HyperOpt"
   ]
  },
  {
   "cell_type": "code",
   "execution_count": 10,
   "metadata": {},
   "outputs": [
    {
     "name": "stdout",
     "output_type": "stream",
     "text": [
      "100%|██████████| 20/20 [00:57<00:00,  2.89s/trial, best loss: -0.9982544491482915]\n"
     ]
    },
    {
     "data": {
      "text/plain": [
       "{'criterion': 0,\n",
       " 'max_depth': 10.0,\n",
       " 'max_features': 0,\n",
       " 'min_samples_leaf': 0.19229348647911865,\n",
       " 'min_samples_split': 0.2852019509946798,\n",
       " 'n_estimators': 0}"
      ]
     },
     "execution_count": 10,
     "metadata": {},
     "output_type": "execute_result"
    }
   ],
   "source": [
    "from hyperopt import hp, fmin, tpe, STATUS_OK, Trials\n",
    "\n",
    "space = {\n",
    "    'criterion': hp.choice('criterion', ['entropy', 'gini']),\n",
    "    'max_depth': hp.quniform('max_depth', 10, 12, 10),\n",
    "    'max_features': hp.choice('max_features', ['auto', 'sqrt', 'log2', None]),\n",
    "    'min_samples_leaf': hp.uniform('min_samples_leaf', 0, 0.5),\n",
    "    'min_samples_split': hp.uniform('min_samples_split', 0, 1),\n",
    "    'n_estimators': hp.choice('n_estimators', [10, 50])\n",
    "}\n",
    "\n",
    "def objective(space):\n",
    "    model = RandomForestClassifier(criterion = space['criterion'],\n",
    "                                  max_depth = space['max_depth'],\n",
    "                                  max_features = space['max_features'],\n",
    "                                  min_samples_leaf = space['min_samples_leaf'],\n",
    "                                  min_samples_split = space['min_samples_split'],\n",
    "                                  n_estimators = space['n_estimators'])\n",
    "    accuracy = cross_val_score(model, X_Train, Y_Train, cv = 4).mean()\n",
    "    \n",
    "    return {'loss': -accuracy, 'status': STATUS_OK}\n",
    "\n",
    "trials = Trials()\n",
    "best = fmin(fn = objective,\n",
    "           space = space,\n",
    "           algo = tpe.suggest,\n",
    "           max_evals = 20,\n",
    "           trials = trials)\n",
    "best"
   ]
  },
  {
   "cell_type": "code",
   "execution_count": 11,
   "metadata": {},
   "outputs": [
    {
     "name": "stdout",
     "output_type": "stream",
     "text": [
      "[[85299     0]\n",
      " [  144     0]]\n",
      "              precision    recall  f1-score   support\n",
      "\n",
      "           0       1.00      1.00      1.00     85299\n",
      "           1       0.00      0.00      0.00       144\n",
      "\n",
      "    accuracy                           1.00     85443\n",
      "   macro avg       0.50      0.50      0.50     85443\n",
      "weighted avg       1.00      1.00      1.00     85443\n",
      "\n"
     ]
    },
    {
     "name": "stderr",
     "output_type": "stream",
     "text": [
      "/opt/anaconda3/lib/python3.7/site-packages/sklearn/metrics/_classification.py:1221: UndefinedMetricWarning: Precision and F-score are ill-defined and being set to 0.0 in labels with no predicted samples. Use `zero_division` parameter to control this behavior.\n",
      "  _warn_prf(average, modifier, msg_start, len(result))\n"
     ]
    }
   ],
   "source": [
    "crit = {0: 'entropy', 1: 'gini'}\n",
    "feat = {0: 'auto', 1: 'sqrt', 2: 'log2', 3: None}\n",
    "est = {0: 10, 1: 50, 2: 75, 3: 100, 4: 125}\n",
    "trainedforest = RandomForestClassifier(\n",
    "    criterion = crit[best['criterion']],\n",
    "    max_depth = best['max_depth'],\n",
    "    max_features = feat[best['max_features']],\n",
    "    min_samples_leaf = best['min_samples_leaf'],\n",
    "    min_samples_split = best['min_samples_split'],\n",
    "    n_estimators = est[best['n_estimators']]\n",
    ").fit(X_Train, Y_Train)\n",
    "\n",
    "predictionforest = trainedforest.predict(X_Test)\n",
    "print(confusion_matrix(Y_Test, predictionforest))\n",
    "print(classification_report(Y_Test, predictionforest))\n",
    "acc5 = accuracy_score(Y_Test, predictionforest)"
   ]
  },
  {
   "cell_type": "code",
   "execution_count": 13,
   "metadata": {},
   "outputs": [
    {
     "name": "stderr",
     "output_type": "stream",
     "text": [
      "/opt/anaconda3/lib/python3.7/site-packages/tpot/builtins/__init__.py:36: UserWarning: Warning: optional dependency `torch` is not available. - skipping import of NN models.\n",
      "  warnings.warn(\"Warning: optional dependency `torch` is not available. - skipping import of NN models.\")\n",
      "Version 0.11.6.post3 of tpot is outdated. Version 0.11.7 was released Wednesday January 06, 2021.\n"
     ]
    },
    {
     "data": {
      "application/vnd.jupyter.widget-view+json": {
       "model_id": "",
       "version_major": 2,
       "version_minor": 0
      },
      "text/plain": [
       "Optimization Progress:   0%|          | 0/72 [00:00<?, ?pipeline/s]"
      ]
     },
     "metadata": {},
     "output_type": "display_data"
    },
    {
     "name": "stdout",
     "output_type": "stream",
     "text": [
      "\n",
      "Generation 1 - Current best internal CV score: 0.9992526233422283\n",
      "\n",
      "Generation 2 - Current best internal CV score: 0.9992526233422283\n",
      "\n",
      "Generation 3 - Current best internal CV score: 0.9992526233422283\n",
      "\n",
      "Generation 4 - Current best internal CV score: 0.9992526233422283\n",
      "\n",
      "Best pipeline: RandomForestClassifier(RandomForestClassifier(input_matrix, criterion=entropy, max_depth=2, max_features=auto, min_samples_leaf=12, min_samples_split=10, n_estimators=10), criterion=entropy, max_depth=2, max_features=auto, min_samples_leaf=4, min_samples_split=10, n_estimators=10)\n"
     ]
    },
    {
     "data": {
      "text/plain": [
       "TPOTClassifier(config_dict={'sklearn.ensemble.RandomForestClassifier': {'criterion': ['entropy',\n",
       "                                                                                      'gini'],\n",
       "                                                                        'max_depth': [2],\n",
       "                                                                        'max_features': ['auto'],\n",
       "                                                                        'min_samples_leaf': [4,\n",
       "                                                                                             12],\n",
       "                                                                        'min_samples_split': [5,\n",
       "                                                                                              10],\n",
       "                                                                        'n_estimators': [10]}},\n",
       "               cv=4, early_stop=12, generations=4, offspring_size=12,\n",
       "               population_size=24, scoring='accuracy', verbosity=2)"
      ]
     },
     "execution_count": 13,
     "metadata": {},
     "output_type": "execute_result"
    }
   ],
   "source": [
    "from tpot import TPOTClassifier\n",
    "\n",
    "parameters = {'criterion': ['entropy', 'gini'],\n",
    "               'max_depth': [2],\n",
    "               'max_features': ['auto'],\n",
    "               'min_samples_leaf': [4, 12],\n",
    "               'min_samples_split': [5, 10],\n",
    "               'n_estimators': [10]}\n",
    "               \n",
    "tpot_classifier = TPOTClassifier(\n",
    "    generations= 4, population_size= 24, offspring_size= 12,  \n",
    "    verbosity= 2, early_stop= 12,  \n",
    "    config_dict={'sklearn.ensemble.RandomForestClassifier': parameters}, \n",
    "    cv = 4, scoring = 'accuracy')\n",
    "tpot_classifier.fit(X_Train,Y_Train) "
   ]
  },
  {
   "cell_type": "code",
   "execution_count": 14,
   "metadata": {},
   "outputs": [
    {
     "name": "stdout",
     "output_type": "stream",
     "text": [
      "0.9992743700478681\n"
     ]
    }
   ],
   "source": [
    "accuracy = tpot_classifier.score(X_Test, Y_Test)\n",
    "print(accuracy)"
   ]
  },
  {
   "cell_type": "code",
   "execution_count": 18,
   "metadata": {},
   "outputs": [],
   "source": [
    "from keras.models import Sequential\n",
    "from keras.layers import Dense, Dropout\n",
    "from keras.wrappers.scikit_learn import KerasClassifier"
   ]
  },
  {
   "cell_type": "code",
   "execution_count": 19,
   "metadata": {},
   "outputs": [],
   "source": [
    "def DL_Model(activation = 'linear', neurons = 5, optimizer = 'Adam'):\n",
    "    model = Sequential()\n",
    "    model.add(Dense(neurons, input_dim = 4, activation = activation))\n",
    "    model.add(Dense(neurons, activation = activation))\n",
    "    model.add(Dropout(0.3))\n",
    "    model.add(Dense(1, activation='sigmoid'))\n",
    "    model.compile(loss = 'binary_crossentropy', optimizer = optimizer, metrics=['accuracy'])\n",
    "    return model"
   ]
  },
  {
   "cell_type": "code",
   "execution_count": 21,
   "metadata": {},
   "outputs": [],
   "source": [
    "activation = ['softmax', 'relu']\n",
    "neurons = [5, 10]\n",
    "optimizer = ['Adam', 'Adamax']\n",
    "param_grid = dict(\n",
    "    activation = activation,\n",
    "    neurons = neurons,\n",
    "    optimizer = optimizer\n",
    ")\n",
    "\n",
    "clf = KerasClassifier(\n",
    "    build_fn = DL_Model,\n",
    "    epochs = 5, \n",
    "    batch_size = 1024,\n",
    "    verbose = 2\n",
    ")"
   ]
  },
  {
   "cell_type": "code",
   "execution_count": 22,
   "metadata": {},
   "outputs": [
    {
     "name": "stdout",
     "output_type": "stream",
     "text": [
      "Epoch 1/5\n",
      " - 1s - loss: 0.5309 - accuracy: 0.7781\n",
      "Epoch 2/5\n",
      " - 1s - loss: 0.1449 - accuracy: 0.9976\n",
      "Epoch 3/5\n",
      " - 1s - loss: 0.0576 - accuracy: 0.9982\n",
      "Epoch 4/5\n",
      " - 1s - loss: 0.0238 - accuracy: 0.9983\n",
      "Epoch 5/5\n",
      " - 1s - loss: 0.0152 - accuracy: 0.9985\n"
     ]
    },
    {
     "data": {
      "text/plain": [
       "GridSearchCV(estimator=<keras.wrappers.scikit_learn.KerasClassifier object at 0x7fd5ba6e4850>,\n",
       "             n_jobs=-1,\n",
       "             param_grid={'activation': ['softmax', 'relu'], 'neurons': [5, 10],\n",
       "                         'optimizer': ['Adam', 'Adamax']})"
      ]
     },
     "execution_count": 22,
     "metadata": {},
     "output_type": "execute_result"
    }
   ],
   "source": [
    "model = GridSearchCV(\n",
    "    estimator = clf,\n",
    "    param_grid=param_grid,\n",
    "    n_jobs = -1\n",
    ")\n",
    "model.fit(X_Train, Y_Train)"
   ]
  },
  {
   "cell_type": "code",
   "execution_count": 23,
   "metadata": {},
   "outputs": [
    {
     "name": "stdout",
     "output_type": "stream",
     "text": [
      "Max Accuracy Registered: 0.999 using {'activation': 'relu', 'neurons': 10, 'optimizer': 'Adam'}\n"
     ]
    }
   ],
   "source": [
    "print(\"Max Accuracy Registered: {} using {}\".format(\n",
    "    round(model.best_score_, 3),\n",
    "    model.best_params_\n",
    "))"
   ]
  },
  {
   "cell_type": "code",
   "execution_count": 26,
   "metadata": {},
   "outputs": [
    {
     "name": "stdout",
     "output_type": "stream",
     "text": [
      "[[85293     6]\n",
      " [  109    35]]\n",
      "              precision    recall  f1-score   support\n",
      "\n",
      "           0       1.00      1.00      1.00     85299\n",
      "           1       0.85      0.24      0.38       144\n",
      "\n",
      "    accuracy                           1.00     85443\n",
      "   macro avg       0.93      0.62      0.69     85443\n",
      "weighted avg       1.00      1.00      1.00     85443\n",
      "\n"
     ]
    }
   ],
   "source": [
    "prediction_test = model.predict(X_Test)\n",
    "print(confusion_matrix(Y_Test,prediction_test))\n",
    "print(classification_report(Y_Test,prediction_test))\n",
    "accuracy_ANN = accuracy_score(Y_Test,prediction_test)"
   ]
  },
  {
   "cell_type": "markdown",
   "metadata": {},
   "source": [
    "#### 6. Optuna"
   ]
  },
  {
   "cell_type": "code",
   "execution_count": 28,
   "metadata": {},
   "outputs": [
    {
     "name": "stderr",
     "output_type": "stream",
     "text": [
      "\u001b[32m[I 2021-01-19 19:27:18,893]\u001b[0m A new study created in memory with name: no-name-93ab8688-ac23-4b02-b532-ac1ec197a5fe\u001b[0m\n",
      "/opt/anaconda3/lib/python3.7/site-packages/optuna/distributions.py:430: UserWarning: Choices for a categorical distribution should be a tuple of None, bool, int, float and str for persistent storage but contains ['RandomForest'] which is of type list.\n",
      "  warnings.warn(message)\n",
      "\u001b[32m[I 2021-01-19 19:27:18,898]\u001b[0m Trial 0 finished with value: 0.9992743700478681 and parameters: {'classifier': 'SVC', 'svc_c': 16.177857990572225}. Best is trial 0 with value: 0.9992743700478681.\u001b[0m\n",
      "\u001b[32m[I 2021-01-19 19:27:18,900]\u001b[0m Trial 1 finished with value: 0.9992743700478681 and parameters: {'classifier': ['RandomForest'], 'rf_max_depth': 3.8503993696072}. Best is trial 0 with value: 0.9992743700478681.\u001b[0m\n",
      "\u001b[32m[I 2021-01-19 19:27:18,903]\u001b[0m Trial 2 finished with value: 0.9992743700478681 and parameters: {'classifier': 'SVC', 'svc_c': 4498.159152111135}. Best is trial 0 with value: 0.9992743700478681.\u001b[0m\n",
      "\u001b[32m[I 2021-01-19 19:27:18,907]\u001b[0m Trial 3 finished with value: 0.9992743700478681 and parameters: {'classifier': 'SVC', 'svc_c': 0.008144913480763231}. Best is trial 0 with value: 0.9992743700478681.\u001b[0m\n",
      "\u001b[32m[I 2021-01-19 19:27:18,910]\u001b[0m Trial 4 finished with value: 0.9992743700478681 and parameters: {'classifier': 'SVC', 'svc_c': 353033901.89635247}. Best is trial 0 with value: 0.9992743700478681.\u001b[0m\n",
      "\u001b[32m[I 2021-01-19 19:27:18,913]\u001b[0m Trial 5 finished with value: 0.9992743700478681 and parameters: {'classifier': 'SVC', 'svc_c': 3.14820684819681e-07}. Best is trial 0 with value: 0.9992743700478681.\u001b[0m\n",
      "\u001b[32m[I 2021-01-19 19:27:18,918]\u001b[0m Trial 6 finished with value: 0.9992743700478681 and parameters: {'classifier': ['RandomForest'], 'rf_max_depth': 3.0804468017197126}. Best is trial 0 with value: 0.9992743700478681.\u001b[0m\n",
      "\u001b[32m[I 2021-01-19 19:27:18,922]\u001b[0m Trial 7 finished with value: 0.9992743700478681 and parameters: {'classifier': 'SVC', 'svc_c': 2.3788310721985976e-05}. Best is trial 0 with value: 0.9992743700478681.\u001b[0m\n",
      "\u001b[32m[I 2021-01-19 19:27:18,925]\u001b[0m Trial 8 finished with value: 0.9992743700478681 and parameters: {'classifier': ['RandomForest'], 'rf_max_depth': 2.10580912133808}. Best is trial 0 with value: 0.9992743700478681.\u001b[0m\n",
      "\u001b[32m[I 2021-01-19 19:27:18,928]\u001b[0m Trial 9 finished with value: 0.9992743700478681 and parameters: {'classifier': ['RandomForest'], 'rf_max_depth': 18.274587602077442}. Best is trial 0 with value: 0.9992743700478681.\u001b[0m\n",
      "\u001b[32m[I 2021-01-19 19:27:18,940]\u001b[0m Trial 10 finished with value: 0.9992743700478681 and parameters: {'classifier': 'SVC', 'svc_c': 1043.0019893112672}. Best is trial 0 with value: 0.9992743700478681.\u001b[0m\n",
      "\u001b[32m[I 2021-01-19 19:27:18,947]\u001b[0m Trial 11 finished with value: 0.9992743700478681 and parameters: {'classifier': ['RandomForest'], 'rf_max_depth': 5.998697198569}. Best is trial 0 with value: 0.9992743700478681.\u001b[0m\n",
      "\u001b[32m[I 2021-01-19 19:27:18,957]\u001b[0m Trial 12 finished with value: 0.9992743700478681 and parameters: {'classifier': ['RandomForest'], 'rf_max_depth': 6.250428394726929}. Best is trial 0 with value: 0.9992743700478681.\u001b[0m\n",
      "\u001b[32m[I 2021-01-19 19:27:18,964]\u001b[0m Trial 13 finished with value: 0.9992743700478681 and parameters: {'classifier': ['RandomForest'], 'rf_max_depth': 17.1869257091278}. Best is trial 0 with value: 0.9992743700478681.\u001b[0m\n",
      "\u001b[32m[I 2021-01-19 19:27:18,973]\u001b[0m Trial 14 finished with value: 0.9992743700478681 and parameters: {'classifier': 'SVC', 'svc_c': 9780244774.22797}. Best is trial 0 with value: 0.9992743700478681.\u001b[0m\n",
      "\u001b[32m[I 2021-01-19 19:27:18,980]\u001b[0m Trial 15 finished with value: 0.9992743700478681 and parameters: {'classifier': ['RandomForest'], 'rf_max_depth': 3.3183443103126136}. Best is trial 0 with value: 0.9992743700478681.\u001b[0m\n",
      "\u001b[32m[I 2021-01-19 19:27:18,990]\u001b[0m Trial 16 finished with value: 0.9992743700478681 and parameters: {'classifier': 'SVC', 'svc_c': 50.88141604307177}. Best is trial 0 with value: 0.9992743700478681.\u001b[0m\n",
      "\u001b[32m[I 2021-01-19 19:27:18,997]\u001b[0m Trial 17 finished with value: 0.9992743700478681 and parameters: {'classifier': 'SVC', 'svc_c': 4947302717.280803}. Best is trial 0 with value: 0.9992743700478681.\u001b[0m\n",
      "\u001b[32m[I 2021-01-19 19:27:19,006]\u001b[0m Trial 18 finished with value: 0.9992743700478681 and parameters: {'classifier': ['RandomForest'], 'rf_max_depth': 2.026538283870016}. Best is trial 0 with value: 0.9992743700478681.\u001b[0m\n",
      "\u001b[32m[I 2021-01-19 19:27:19,013]\u001b[0m Trial 19 finished with value: 0.9992743700478681 and parameters: {'classifier': 'SVC', 'svc_c': 202.16566438902566}. Best is trial 0 with value: 0.9992743700478681.\u001b[0m\n",
      "\u001b[32m[I 2021-01-19 19:27:19,024]\u001b[0m Trial 20 finished with value: 0.9992743700478681 and parameters: {'classifier': 'SVC', 'svc_c': 6451714.431703213}. Best is trial 0 with value: 0.9992743700478681.\u001b[0m\n",
      "\u001b[32m[I 2021-01-19 19:27:19,031]\u001b[0m Trial 21 finished with value: 0.9992743700478681 and parameters: {'classifier': 'SVC', 'svc_c': 1081256.675212998}. Best is trial 0 with value: 0.9992743700478681.\u001b[0m\n",
      "\u001b[32m[I 2021-01-19 19:27:19,041]\u001b[0m Trial 22 finished with value: 0.9992743700478681 and parameters: {'classifier': 'SVC', 'svc_c': 0.025721284542033897}. Best is trial 0 with value: 0.9992743700478681.\u001b[0m\n",
      "\u001b[32m[I 2021-01-19 19:27:19,049]\u001b[0m Trial 23 finished with value: 0.9992743700478681 and parameters: {'classifier': 'SVC', 'svc_c': 1620057.0362397481}. Best is trial 0 with value: 0.9992743700478681.\u001b[0m\n",
      "\u001b[32m[I 2021-01-19 19:27:19,059]\u001b[0m Trial 24 finished with value: 0.9992743700478681 and parameters: {'classifier': 'SVC', 'svc_c': 2010804.488112111}. Best is trial 0 with value: 0.9992743700478681.\u001b[0m\n",
      "\u001b[32m[I 2021-01-19 19:27:19,066]\u001b[0m Trial 25 finished with value: 0.9992743700478681 and parameters: {'classifier': 'SVC', 'svc_c': 0.08282991073546668}. Best is trial 0 with value: 0.9992743700478681.\u001b[0m\n",
      "\u001b[32m[I 2021-01-19 19:27:19,074]\u001b[0m Trial 26 finished with value: 0.9992743700478681 and parameters: {'classifier': 'SVC', 'svc_c': 0.0002121481434736253}. Best is trial 0 with value: 0.9992743700478681.\u001b[0m\n",
      "\u001b[32m[I 2021-01-19 19:27:19,082]\u001b[0m Trial 27 finished with value: 0.9992743700478681 and parameters: {'classifier': 'SVC', 'svc_c': 1118801.3940395347}. Best is trial 0 with value: 0.9992743700478681.\u001b[0m\n",
      "\u001b[32m[I 2021-01-19 19:27:19,092]\u001b[0m Trial 28 finished with value: 0.9992743700478681 and parameters: {'classifier': 'SVC', 'svc_c': 6.18202690689922}. Best is trial 0 with value: 0.9992743700478681.\u001b[0m\n",
      "\u001b[32m[I 2021-01-19 19:27:19,099]\u001b[0m Trial 29 finished with value: 0.9992743700478681 and parameters: {'classifier': 'SVC', 'svc_c': 0.00037092603667549336}. Best is trial 0 with value: 0.9992743700478681.\u001b[0m\n",
      "\u001b[32m[I 2021-01-19 19:27:19,107]\u001b[0m Trial 30 finished with value: 0.9992743700478681 and parameters: {'classifier': 'SVC', 'svc_c': 8.866996545013274e-06}. Best is trial 0 with value: 0.9992743700478681.\u001b[0m\n",
      "\u001b[32m[I 2021-01-19 19:27:19,114]\u001b[0m Trial 31 finished with value: 0.9992743700478681 and parameters: {'classifier': 'SVC', 'svc_c': 1.2740029407671478e-09}. Best is trial 0 with value: 0.9992743700478681.\u001b[0m\n",
      "\u001b[32m[I 2021-01-19 19:27:19,124]\u001b[0m Trial 32 finished with value: 0.9992743700478681 and parameters: {'classifier': 'SVC', 'svc_c': 4.023024043602973}. Best is trial 0 with value: 0.9992743700478681.\u001b[0m\n",
      "\u001b[32m[I 2021-01-19 19:27:19,131]\u001b[0m Trial 33 finished with value: 0.9992743700478681 and parameters: {'classifier': 'SVC', 'svc_c': 1.6632401024601572e-06}. Best is trial 0 with value: 0.9992743700478681.\u001b[0m\n",
      "\u001b[32m[I 2021-01-19 19:27:19,141]\u001b[0m Trial 34 finished with value: 0.9992743700478681 and parameters: {'classifier': 'SVC', 'svc_c': 1.2928134543821918e-10}. Best is trial 0 with value: 0.9992743700478681.\u001b[0m\n",
      "\u001b[32m[I 2021-01-19 19:27:19,148]\u001b[0m Trial 35 finished with value: 0.9992743700478681 and parameters: {'classifier': 'SVC', 'svc_c': 48034.08234016398}. Best is trial 0 with value: 0.9992743700478681.\u001b[0m\n",
      "\u001b[32m[I 2021-01-19 19:27:19,155]\u001b[0m Trial 36 finished with value: 0.9992743700478681 and parameters: {'classifier': 'SVC', 'svc_c': 78257722.22614637}. Best is trial 0 with value: 0.9992743700478681.\u001b[0m\n",
      "\u001b[32m[I 2021-01-19 19:27:19,162]\u001b[0m Trial 37 finished with value: 0.9992743700478681 and parameters: {'classifier': 'SVC', 'svc_c': 0.051496188942947996}. Best is trial 0 with value: 0.9992743700478681.\u001b[0m\n"
     ]
    },
    {
     "name": "stderr",
     "output_type": "stream",
     "text": [
      "\u001b[32m[I 2021-01-19 19:27:19,168]\u001b[0m Trial 38 finished with value: 0.9992743700478681 and parameters: {'classifier': 'SVC', 'svc_c': 48039.1293755097}. Best is trial 0 with value: 0.9992743700478681.\u001b[0m\n",
      "\u001b[32m[I 2021-01-19 19:27:19,176]\u001b[0m Trial 39 finished with value: 0.9992743700478681 and parameters: {'classifier': 'SVC', 'svc_c': 22729.186768025134}. Best is trial 0 with value: 0.9992743700478681.\u001b[0m\n",
      "\u001b[32m[I 2021-01-19 19:27:19,184]\u001b[0m Trial 40 finished with value: 0.9992743700478681 and parameters: {'classifier': 'SVC', 'svc_c': 0.19494366417330358}. Best is trial 0 with value: 0.9992743700478681.\u001b[0m\n",
      "\u001b[32m[I 2021-01-19 19:27:19,191]\u001b[0m Trial 41 finished with value: 0.9992743700478681 and parameters: {'classifier': 'SVC', 'svc_c': 0.004793585711229298}. Best is trial 0 with value: 0.9992743700478681.\u001b[0m\n",
      "\u001b[32m[I 2021-01-19 19:27:19,199]\u001b[0m Trial 42 finished with value: 0.9992743700478681 and parameters: {'classifier': 'SVC', 'svc_c': 0.0001766343273771538}. Best is trial 0 with value: 0.9992743700478681.\u001b[0m\n",
      "\u001b[32m[I 2021-01-19 19:27:19,207]\u001b[0m Trial 43 finished with value: 0.9992743700478681 and parameters: {'classifier': 'SVC', 'svc_c': 1.0017401949167014e-07}. Best is trial 0 with value: 0.9992743700478681.\u001b[0m\n",
      "\u001b[32m[I 2021-01-19 19:27:19,214]\u001b[0m Trial 44 finished with value: 0.9992743700478681 and parameters: {'classifier': 'SVC', 'svc_c': 0.0014363737843604268}. Best is trial 0 with value: 0.9992743700478681.\u001b[0m\n",
      "\u001b[32m[I 2021-01-19 19:27:19,220]\u001b[0m Trial 45 finished with value: 0.9992743700478681 and parameters: {'classifier': 'SVC', 'svc_c': 1.324510608636619}. Best is trial 0 with value: 0.9992743700478681.\u001b[0m\n",
      "\u001b[32m[I 2021-01-19 19:27:19,228]\u001b[0m Trial 46 finished with value: 0.9992743700478681 and parameters: {'classifier': 'SVC', 'svc_c': 14.20677743493309}. Best is trial 0 with value: 0.9992743700478681.\u001b[0m\n",
      "\u001b[32m[I 2021-01-19 19:27:19,234]\u001b[0m Trial 47 finished with value: 0.9992743700478681 and parameters: {'classifier': 'SVC', 'svc_c': 0.2023411898593737}. Best is trial 0 with value: 0.9992743700478681.\u001b[0m\n",
      "\u001b[32m[I 2021-01-19 19:27:19,240]\u001b[0m Trial 48 finished with value: 0.9992743700478681 and parameters: {'classifier': 'SVC', 'svc_c': 9.999629655483617e-05}. Best is trial 0 with value: 0.9992743700478681.\u001b[0m\n",
      "\u001b[32m[I 2021-01-19 19:27:19,247]\u001b[0m Trial 49 finished with value: 0.9992743700478681 and parameters: {'classifier': 'SVC', 'svc_c': 1371.6720264515914}. Best is trial 0 with value: 0.9992743700478681.\u001b[0m\n",
      "\u001b[32m[I 2021-01-19 19:27:19,252]\u001b[0m Trial 50 finished with value: 0.9992743700478681 and parameters: {'classifier': 'SVC', 'svc_c': 1.1395477909763183e-06}. Best is trial 0 with value: 0.9992743700478681.\u001b[0m\n",
      "\u001b[32m[I 2021-01-19 19:27:19,259]\u001b[0m Trial 51 finished with value: 0.9992743700478681 and parameters: {'classifier': 'SVC', 'svc_c': 1.2642440254941877e-09}. Best is trial 0 with value: 0.9992743700478681.\u001b[0m\n",
      "\u001b[32m[I 2021-01-19 19:27:19,265]\u001b[0m Trial 52 finished with value: 0.9992743700478681 and parameters: {'classifier': 'SVC', 'svc_c': 2.6577366572336563}. Best is trial 0 with value: 0.9992743700478681.\u001b[0m\n",
      "\u001b[32m[I 2021-01-19 19:27:19,271]\u001b[0m Trial 53 finished with value: 0.9992743700478681 and parameters: {'classifier': 'SVC', 'svc_c': 4.581770480984436e-09}. Best is trial 0 with value: 0.9992743700478681.\u001b[0m\n",
      "\u001b[32m[I 2021-01-19 19:27:19,278]\u001b[0m Trial 54 finished with value: 0.9992743700478681 and parameters: {'classifier': 'SVC', 'svc_c': 1.1633519249729235e-05}. Best is trial 0 with value: 0.9992743700478681.\u001b[0m\n",
      "\u001b[32m[I 2021-01-19 19:27:19,284]\u001b[0m Trial 55 finished with value: 0.9992743700478681 and parameters: {'classifier': ['RandomForest'], 'rf_max_depth': 29.35407113464878}. Best is trial 0 with value: 0.9992743700478681.\u001b[0m\n",
      "\u001b[32m[I 2021-01-19 19:27:19,291]\u001b[0m Trial 56 finished with value: 0.9992743700478681 and parameters: {'classifier': 'SVC', 'svc_c': 1.329478477815196e-10}. Best is trial 0 with value: 0.9992743700478681.\u001b[0m\n",
      "\u001b[32m[I 2021-01-19 19:27:19,299]\u001b[0m Trial 57 finished with value: 0.9992743700478681 and parameters: {'classifier': 'SVC', 'svc_c': 1.8565434710767856e-08}. Best is trial 0 with value: 0.9992743700478681.\u001b[0m\n",
      "\u001b[32m[I 2021-01-19 19:27:19,309]\u001b[0m Trial 58 finished with value: 0.9992743700478681 and parameters: {'classifier': 'SVC', 'svc_c': 5.109719970140455e-10}. Best is trial 0 with value: 0.9992743700478681.\u001b[0m\n",
      "\u001b[32m[I 2021-01-19 19:27:19,318]\u001b[0m Trial 59 finished with value: 0.9992743700478681 and parameters: {'classifier': 'SVC', 'svc_c': 390.7048314848782}. Best is trial 0 with value: 0.9992743700478681.\u001b[0m\n",
      "\u001b[32m[I 2021-01-19 19:27:19,329]\u001b[0m Trial 60 finished with value: 0.9992743700478681 and parameters: {'classifier': ['RandomForest'], 'rf_max_depth': 11.698373435611703}. Best is trial 0 with value: 0.9992743700478681.\u001b[0m\n",
      "\u001b[32m[I 2021-01-19 19:27:19,336]\u001b[0m Trial 61 finished with value: 0.9992743700478681 and parameters: {'classifier': 'SVC', 'svc_c': 57.38684742367677}. Best is trial 0 with value: 0.9992743700478681.\u001b[0m\n",
      "\u001b[32m[I 2021-01-19 19:27:19,344]\u001b[0m Trial 62 finished with value: 0.9992743700478681 and parameters: {'classifier': 'SVC', 'svc_c': 63860300.13179662}. Best is trial 0 with value: 0.9992743700478681.\u001b[0m\n",
      "\u001b[32m[I 2021-01-19 19:27:19,352]\u001b[0m Trial 63 finished with value: 0.9992743700478681 and parameters: {'classifier': 'SVC', 'svc_c': 42525.67403263248}. Best is trial 0 with value: 0.9992743700478681.\u001b[0m\n",
      "\u001b[32m[I 2021-01-19 19:27:19,360]\u001b[0m Trial 64 finished with value: 0.9992743700478681 and parameters: {'classifier': 'SVC', 'svc_c': 33071.486651342166}. Best is trial 0 with value: 0.9992743700478681.\u001b[0m\n",
      "\u001b[32m[I 2021-01-19 19:27:19,368]\u001b[0m Trial 65 finished with value: 0.9992743700478681 and parameters: {'classifier': 'SVC', 'svc_c': 31206.030459666974}. Best is trial 0 with value: 0.9992743700478681.\u001b[0m\n",
      "\u001b[32m[I 2021-01-19 19:27:19,377]\u001b[0m Trial 66 finished with value: 0.9992743700478681 and parameters: {'classifier': 'SVC', 'svc_c': 917618492.6102457}. Best is trial 0 with value: 0.9992743700478681.\u001b[0m\n",
      "\u001b[32m[I 2021-01-19 19:27:19,384]\u001b[0m Trial 67 finished with value: 0.9992743700478681 and parameters: {'classifier': 'SVC', 'svc_c': 22277221.385716643}. Best is trial 0 with value: 0.9992743700478681.\u001b[0m\n",
      "\u001b[32m[I 2021-01-19 19:27:19,392]\u001b[0m Trial 68 finished with value: 0.9992743700478681 and parameters: {'classifier': 'SVC', 'svc_c': 0.00550331410837895}. Best is trial 0 with value: 0.9992743700478681.\u001b[0m\n",
      "\u001b[32m[I 2021-01-19 19:27:19,400]\u001b[0m Trial 69 finished with value: 0.9992743700478681 and parameters: {'classifier': 'SVC', 'svc_c': 0.13368959772672614}. Best is trial 0 with value: 0.9992743700478681.\u001b[0m\n",
      "\u001b[32m[I 2021-01-19 19:27:19,408]\u001b[0m Trial 70 finished with value: 0.9992743700478681 and parameters: {'classifier': 'SVC', 'svc_c': 0.006377445746040124}. Best is trial 0 with value: 0.9992743700478681.\u001b[0m\n",
      "\u001b[32m[I 2021-01-19 19:27:19,415]\u001b[0m Trial 71 finished with value: 0.9992743700478681 and parameters: {'classifier': 'SVC', 'svc_c': 2202.5544969663056}. Best is trial 0 with value: 0.9992743700478681.\u001b[0m\n",
      "\u001b[32m[I 2021-01-19 19:27:19,423]\u001b[0m Trial 72 finished with value: 0.9992743700478681 and parameters: {'classifier': 'SVC', 'svc_c': 23.821762780513584}. Best is trial 0 with value: 0.9992743700478681.\u001b[0m\n",
      "\u001b[32m[I 2021-01-19 19:27:19,431]\u001b[0m Trial 73 finished with value: 0.9992743700478681 and parameters: {'classifier': 'SVC', 'svc_c': 0.731329456784232}. Best is trial 0 with value: 0.9992743700478681.\u001b[0m\n",
      "\u001b[32m[I 2021-01-19 19:27:19,439]\u001b[0m Trial 74 finished with value: 0.9992743700478681 and parameters: {'classifier': 'SVC', 'svc_c': 3.502479057168896e-09}. Best is trial 0 with value: 0.9992743700478681.\u001b[0m\n",
      "\u001b[32m[I 2021-01-19 19:27:19,446]\u001b[0m Trial 75 finished with value: 0.9992743700478681 and parameters: {'classifier': 'SVC', 'svc_c': 7.035560242913143e-07}. Best is trial 0 with value: 0.9992743700478681.\u001b[0m\n",
      "\u001b[32m[I 2021-01-19 19:27:19,453]\u001b[0m Trial 76 finished with value: 0.9992743700478681 and parameters: {'classifier': 'SVC', 'svc_c': 6.156841983307977e-06}. Best is trial 0 with value: 0.9992743700478681.\u001b[0m\n",
      "\u001b[32m[I 2021-01-19 19:27:19,461]\u001b[0m Trial 77 finished with value: 0.9992743700478681 and parameters: {'classifier': 'SVC', 'svc_c': 5.9409961681551745e-08}. Best is trial 0 with value: 0.9992743700478681.\u001b[0m\n"
     ]
    },
    {
     "name": "stderr",
     "output_type": "stream",
     "text": [
      "\u001b[32m[I 2021-01-19 19:27:19,468]\u001b[0m Trial 78 finished with value: 0.9992743700478681 and parameters: {'classifier': ['RandomForest'], 'rf_max_depth': 28.245064286212877}. Best is trial 0 with value: 0.9992743700478681.\u001b[0m\n",
      "\u001b[32m[I 2021-01-19 19:27:19,477]\u001b[0m Trial 79 finished with value: 0.9992743700478681 and parameters: {'classifier': ['RandomForest'], 'rf_max_depth': 31.45232837525396}. Best is trial 0 with value: 0.9992743700478681.\u001b[0m\n",
      "\u001b[32m[I 2021-01-19 19:27:19,484]\u001b[0m Trial 80 finished with value: 0.9992743700478681 and parameters: {'classifier': ['RandomForest'], 'rf_max_depth': 11.15706892166058}. Best is trial 0 with value: 0.9992743700478681.\u001b[0m\n",
      "\u001b[32m[I 2021-01-19 19:27:19,493]\u001b[0m Trial 81 finished with value: 0.9992743700478681 and parameters: {'classifier': ['RandomForest'], 'rf_max_depth': 21.808492176097886}. Best is trial 0 with value: 0.9992743700478681.\u001b[0m\n",
      "\u001b[32m[I 2021-01-19 19:27:19,500]\u001b[0m Trial 82 finished with value: 0.9992743700478681 and parameters: {'classifier': ['RandomForest'], 'rf_max_depth': 11.345033720260016}. Best is trial 0 with value: 0.9992743700478681.\u001b[0m\n",
      "\u001b[32m[I 2021-01-19 19:27:19,508]\u001b[0m Trial 83 finished with value: 0.9992743700478681 and parameters: {'classifier': ['RandomForest'], 'rf_max_depth': 25.05563707708452}. Best is trial 0 with value: 0.9992743700478681.\u001b[0m\n",
      "\u001b[32m[I 2021-01-19 19:27:19,515]\u001b[0m Trial 84 finished with value: 0.9992743700478681 and parameters: {'classifier': ['RandomForest'], 'rf_max_depth': 12.988262476998957}. Best is trial 0 with value: 0.9992743700478681.\u001b[0m\n",
      "\u001b[32m[I 2021-01-19 19:27:19,523]\u001b[0m Trial 85 finished with value: 0.9992743700478681 and parameters: {'classifier': ['RandomForest'], 'rf_max_depth': 7.569549832261422}. Best is trial 0 with value: 0.9992743700478681.\u001b[0m\n",
      "\u001b[32m[I 2021-01-19 19:27:19,530]\u001b[0m Trial 86 finished with value: 0.9992743700478681 and parameters: {'classifier': ['RandomForest'], 'rf_max_depth': 14.79600002065877}. Best is trial 0 with value: 0.9992743700478681.\u001b[0m\n",
      "\u001b[32m[I 2021-01-19 19:27:19,536]\u001b[0m Trial 87 finished with value: 0.9992743700478681 and parameters: {'classifier': ['RandomForest'], 'rf_max_depth': 8.975898297549765}. Best is trial 0 with value: 0.9992743700478681.\u001b[0m\n",
      "\u001b[32m[I 2021-01-19 19:27:19,543]\u001b[0m Trial 88 finished with value: 0.9992743700478681 and parameters: {'classifier': 'SVC', 'svc_c': 134.18959852236205}. Best is trial 0 with value: 0.9992743700478681.\u001b[0m\n",
      "\u001b[32m[I 2021-01-19 19:27:19,550]\u001b[0m Trial 89 finished with value: 0.9992743700478681 and parameters: {'classifier': 'SVC', 'svc_c': 1.2910733335932285e-10}. Best is trial 0 with value: 0.9992743700478681.\u001b[0m\n",
      "\u001b[32m[I 2021-01-19 19:27:19,556]\u001b[0m Trial 90 finished with value: 0.9992743700478681 and parameters: {'classifier': 'SVC', 'svc_c': 224.53071314169372}. Best is trial 0 with value: 0.9992743700478681.\u001b[0m\n",
      "\u001b[32m[I 2021-01-19 19:27:19,563]\u001b[0m Trial 91 finished with value: 0.9992743700478681 and parameters: {'classifier': 'SVC', 'svc_c': 265238.79250982543}. Best is trial 0 with value: 0.9992743700478681.\u001b[0m\n",
      "\u001b[32m[I 2021-01-19 19:27:19,570]\u001b[0m Trial 92 finished with value: 0.9992743700478681 and parameters: {'classifier': 'SVC', 'svc_c': 1791723954.850106}. Best is trial 0 with value: 0.9992743700478681.\u001b[0m\n",
      "\u001b[32m[I 2021-01-19 19:27:19,577]\u001b[0m Trial 93 finished with value: 0.9992743700478681 and parameters: {'classifier': 'SVC', 'svc_c': 20891.986415006446}. Best is trial 0 with value: 0.9992743700478681.\u001b[0m\n",
      "\u001b[32m[I 2021-01-19 19:27:19,584]\u001b[0m Trial 94 finished with value: 0.9992743700478681 and parameters: {'classifier': 'SVC', 'svc_c': 27120668.900865447}. Best is trial 0 with value: 0.9992743700478681.\u001b[0m\n",
      "\u001b[32m[I 2021-01-19 19:27:19,592]\u001b[0m Trial 95 finished with value: 0.9992743700478681 and parameters: {'classifier': 'SVC', 'svc_c': 409127677.63266087}. Best is trial 0 with value: 0.9992743700478681.\u001b[0m\n",
      "\u001b[32m[I 2021-01-19 19:27:19,599]\u001b[0m Trial 96 finished with value: 0.9992743700478681 and parameters: {'classifier': 'SVC', 'svc_c': 12762704.354221247}. Best is trial 0 with value: 0.9992743700478681.\u001b[0m\n",
      "\u001b[32m[I 2021-01-19 19:27:19,606]\u001b[0m Trial 97 finished with value: 0.9992743700478681 and parameters: {'classifier': 'SVC', 'svc_c': 292755.776122017}. Best is trial 0 with value: 0.9992743700478681.\u001b[0m\n",
      "\u001b[32m[I 2021-01-19 19:27:19,613]\u001b[0m Trial 98 finished with value: 0.9992743700478681 and parameters: {'classifier': 'SVC', 'svc_c': 0.013483644175653564}. Best is trial 0 with value: 0.9992743700478681.\u001b[0m\n",
      "\u001b[32m[I 2021-01-19 19:27:19,621]\u001b[0m Trial 99 finished with value: 0.9992743700478681 and parameters: {'classifier': 'SVC', 'svc_c': 1911.8633632761896}. Best is trial 0 with value: 0.9992743700478681.\u001b[0m\n"
     ]
    }
   ],
   "source": [
    "import sklearn\n",
    "import sklearn.datasets\n",
    "import sklearn.ensemble\n",
    "import sklearn.model_selection\n",
    "import sklearn.svm\n",
    "import optuna\n",
    "\n",
    "def objective(trial):\n",
    "    iris = sklearn.datasets.load_iris()\n",
    "    x, y = iris.data, iris.target\n",
    "    \n",
    "    classifier_name = trial.suggest_categorical('classifier', ['SVC', ['RandomForest']])\n",
    "    if classifier_name == 'SVC':\n",
    "        svc_c = trial.suggest_loguniform('svc_c', 1e-10, 1e10)\n",
    "        classifier_obj = sklearn.svm.SVC(C=svc_c, gamma='auto')\n",
    "    else:\n",
    "        rf_max_depth = int(trial.suggest_loguniform('rf_max_depth', 2, 32))\n",
    "        classifier_obj = sklearn.ensemble.RandomForestClassifier(\n",
    "            max_depth=rf_max_depth,\n",
    "            n_estimators=10\n",
    "        )\n",
    "    return accuracy\n",
    "\n",
    "study = optuna.create_study(direction='maximize')\n",
    "study.optimize(objective, n_trials=100)"
   ]
  },
  {
   "cell_type": "markdown",
   "metadata": {},
   "source": [
    "#### 7. Tune"
   ]
  },
  {
   "cell_type": "code",
   "execution_count": 42,
   "metadata": {},
   "outputs": [
    {
     "name": "stdout",
     "output_type": "stream",
     "text": [
      "Collecting ray[tune]\n",
      "  Downloading ray-1.1.0-cp37-cp37m-macosx_10_13_intel.whl (49.2 MB)\n",
      "\u001b[K     |████████████████████████████████| 49.2 MB 12.4 MB/s eta 0:00:01\n",
      "\u001b[?25hRequirement already satisfied: torch in /opt/anaconda3/lib/python3.7/site-packages (1.7.1)\n",
      "Requirement already satisfied: torchvision in /opt/anaconda3/lib/python3.7/site-packages (0.8.2)\n",
      "Requirement already satisfied: filelock in /opt/anaconda3/lib/python3.7/site-packages (from ray[tune]) (3.0.12)\n",
      "Collecting opencensus\n",
      "  Using cached opencensus-0.7.12-py2.py3-none-any.whl (127 kB)\n",
      "Requirement already satisfied: numpy>=1.16 in /opt/anaconda3/lib/python3.7/site-packages (from ray[tune]) (1.19.2)\n",
      "Collecting aioredis\n",
      "  Using cached aioredis-1.3.1-py3-none-any.whl (65 kB)\n",
      "Requirement already satisfied: aiohttp in /opt/anaconda3/lib/python3.7/site-packages (from ray[tune]) (3.7.2)\n",
      "Requirement already satisfied: pyyaml in /opt/anaconda3/lib/python3.7/site-packages (from ray[tune]) (5.3.1)\n",
      "Collecting redis>=3.5.0\n",
      "  Using cached redis-3.5.3-py2.py3-none-any.whl (72 kB)\n",
      "Collecting colorful\n",
      "  Using cached colorful-0.5.4-py2.py3-none-any.whl (201 kB)\n",
      "Requirement already satisfied: click>=7.0 in /opt/anaconda3/lib/python3.7/site-packages (from ray[tune]) (7.1.2)\n",
      "Requirement already satisfied: jsonschema in /opt/anaconda3/lib/python3.7/site-packages (from ray[tune]) (3.2.0)\n",
      "Collecting py-spy>=0.2.0\n",
      "  Using cached py_spy-0.3.4-py2.py3-none-macosx_10_14_x86_64.whl (1.5 MB)\n",
      "Requirement already satisfied: colorama in /opt/anaconda3/lib/python3.7/site-packages (from ray[tune]) (0.4.4)\n",
      "Collecting aiohttp-cors\n",
      "  Using cached aiohttp_cors-0.7.0-py3-none-any.whl (27 kB)\n",
      "Requirement already satisfied: protobuf>=3.8.0 in /opt/anaconda3/lib/python3.7/site-packages (from ray[tune]) (3.13.0)\n",
      "Requirement already satisfied: grpcio>=1.28.1 in /opt/anaconda3/lib/python3.7/site-packages (from ray[tune]) (1.31.0)\n",
      "Requirement already satisfied: requests in /opt/anaconda3/lib/python3.7/site-packages (from ray[tune]) (2.24.0)\n",
      "Requirement already satisfied: prometheus-client>=0.7.1 in /opt/anaconda3/lib/python3.7/site-packages (from ray[tune]) (0.8.0)\n",
      "Requirement already satisfied: msgpack<2.0.0,>=1.0.0 in /opt/anaconda3/lib/python3.7/site-packages (from ray[tune]) (1.0.0)\n",
      "Collecting gpustat\n",
      "  Using cached gpustat-0.6.0.tar.gz (78 kB)\n",
      "Collecting tensorboardX; extra == \"tune\"\n",
      "  Using cached tensorboardX-2.1-py2.py3-none-any.whl (308 kB)\n",
      "Requirement already satisfied: pandas; extra == \"tune\" in /opt/anaconda3/lib/python3.7/site-packages (from ray[tune]) (1.1.3)\n",
      "Collecting tabulate; extra == \"tune\"\n",
      "  Using cached tabulate-0.8.7-py3-none-any.whl (24 kB)\n",
      "Requirement already satisfied: typing_extensions in /opt/anaconda3/lib/python3.7/site-packages (from torch) (3.7.4.3)\n",
      "Requirement already satisfied: pillow>=4.1.1 in /opt/anaconda3/lib/python3.7/site-packages (from torchvision) (8.0.1)\n",
      "Collecting opencensus-context==0.1.2\n",
      "  Using cached opencensus_context-0.1.2-py2.py3-none-any.whl (4.4 kB)\n",
      "Requirement already satisfied: google-api-core<2.0.0,>=1.0.0 in /opt/anaconda3/lib/python3.7/site-packages (from opencensus->ray[tune]) (1.22.2)\n",
      "Collecting hiredis\n",
      "  Downloading hiredis-1.1.0-cp37-cp37m-macosx_10_6_intel.whl (35 kB)\n",
      "Requirement already satisfied: async-timeout in /opt/anaconda3/lib/python3.7/site-packages (from aioredis->ray[tune]) (3.0.1)\n",
      "Requirement already satisfied: yarl<2.0,>=1.0 in /opt/anaconda3/lib/python3.7/site-packages (from aiohttp->ray[tune]) (1.6.2)\n",
      "Requirement already satisfied: chardet<4.0,>=2.0 in /opt/anaconda3/lib/python3.7/site-packages (from aiohttp->ray[tune]) (3.0.4)\n",
      "Requirement already satisfied: attrs>=17.3.0 in /opt/anaconda3/lib/python3.7/site-packages (from aiohttp->ray[tune]) (20.2.0)\n",
      "Requirement already satisfied: multidict<7.0,>=4.5 in /opt/anaconda3/lib/python3.7/site-packages (from aiohttp->ray[tune]) (4.7.5)\n",
      "Requirement already satisfied: importlib-metadata; python_version < \"3.8\" in /opt/anaconda3/lib/python3.7/site-packages (from jsonschema->ray[tune]) (2.0.0)\n",
      "Requirement already satisfied: setuptools in /opt/anaconda3/lib/python3.7/site-packages (from jsonschema->ray[tune]) (50.3.0.post20201103)\n",
      "Requirement already satisfied: pyrsistent>=0.14.0 in /opt/anaconda3/lib/python3.7/site-packages (from jsonschema->ray[tune]) (0.17.3)\n",
      "Requirement already satisfied: six>=1.11.0 in /opt/anaconda3/lib/python3.7/site-packages (from jsonschema->ray[tune]) (1.15.0)\n",
      "Requirement already satisfied: certifi>=2017.4.17 in /opt/anaconda3/lib/python3.7/site-packages (from requests->ray[tune]) (2020.12.5)\n",
      "Requirement already satisfied: idna<3,>=2.5 in /opt/anaconda3/lib/python3.7/site-packages (from requests->ray[tune]) (2.10)\n",
      "Requirement already satisfied: urllib3!=1.25.0,!=1.25.1,<1.26,>=1.21.1 in /opt/anaconda3/lib/python3.7/site-packages (from requests->ray[tune]) (1.25.11)\n",
      "Collecting nvidia-ml-py3>=7.352.0\n",
      "  Using cached nvidia-ml-py3-7.352.0.tar.gz (19 kB)\n",
      "Requirement already satisfied: psutil in /opt/anaconda3/lib/python3.7/site-packages (from gpustat->ray[tune]) (5.7.2)\n",
      "Collecting blessings>=1.6\n",
      "  Using cached blessings-1.7-py3-none-any.whl (18 kB)\n",
      "Requirement already satisfied: pytz>=2017.2 in /opt/anaconda3/lib/python3.7/site-packages (from pandas; extra == \"tune\"->ray[tune]) (2020.1)\n",
      "Requirement already satisfied: python-dateutil>=2.7.3 in /opt/anaconda3/lib/python3.7/site-packages (from pandas; extra == \"tune\"->ray[tune]) (2.8.1)\n",
      "Requirement already satisfied: googleapis-common-protos<2.0dev,>=1.6.0 in /opt/anaconda3/lib/python3.7/site-packages (from google-api-core<2.0.0,>=1.0.0->opencensus->ray[tune]) (1.52.0)\n",
      "Requirement already satisfied: google-auth<2.0dev,>=1.21.1 in /opt/anaconda3/lib/python3.7/site-packages (from google-api-core<2.0.0,>=1.0.0->opencensus->ray[tune]) (1.23.0)\n",
      "Requirement already satisfied: zipp>=0.5 in /opt/anaconda3/lib/python3.7/site-packages (from importlib-metadata; python_version < \"3.8\"->jsonschema->ray[tune]) (3.4.0)\n",
      "Requirement already satisfied: rsa<5,>=3.1.4; python_version >= \"3.5\" in /opt/anaconda3/lib/python3.7/site-packages (from google-auth<2.0dev,>=1.21.1->google-api-core<2.0.0,>=1.0.0->opencensus->ray[tune]) (4.6)\n",
      "Requirement already satisfied: cachetools<5.0,>=2.0.0 in /opt/anaconda3/lib/python3.7/site-packages (from google-auth<2.0dev,>=1.21.1->google-api-core<2.0.0,>=1.0.0->opencensus->ray[tune]) (4.1.1)\n",
      "Requirement already satisfied: pyasn1-modules>=0.2.1 in /opt/anaconda3/lib/python3.7/site-packages (from google-auth<2.0dev,>=1.21.1->google-api-core<2.0.0,>=1.0.0->opencensus->ray[tune]) (0.2.7)\n",
      "Requirement already satisfied: pyasn1>=0.1.3 in /opt/anaconda3/lib/python3.7/site-packages (from rsa<5,>=3.1.4; python_version >= \"3.5\"->google-auth<2.0dev,>=1.21.1->google-api-core<2.0.0,>=1.0.0->opencensus->ray[tune]) (0.4.8)\n",
      "Building wheels for collected packages: gpustat, nvidia-ml-py3\n",
      "  Building wheel for gpustat (setup.py) ... \u001b[?25ldone\n",
      "\u001b[?25h  Created wheel for gpustat: filename=gpustat-0.6.0-py3-none-any.whl size=12617 sha256=78745cc16517fbf230ec40440c2dc2c5c2e6acb9d5106713193e4a90d161c568\n",
      "  Stored in directory: /Users/kimjinsung/Library/Caches/pip/wheels/e6/67/af/f1ad15974b8fd95f59a63dbf854483ebe5c7a46a93930798b8\n",
      "  Building wheel for nvidia-ml-py3 (setup.py) ... \u001b[?25ldone\n",
      "\u001b[?25h  Created wheel for nvidia-ml-py3: filename=nvidia_ml_py3-7.352.0-py3-none-any.whl size=19191 sha256=250f783b2a328f8fde9f872d42dae91675b76129ff7b17a1f54090517eefb17e\n",
      "  Stored in directory: /Users/kimjinsung/Library/Caches/pip/wheels/df/99/da/c34f202dc8fd1dffd35e0ecf1a7d7f8374ca05fbcbaf974b83\n",
      "Successfully built gpustat nvidia-ml-py3\n",
      "Installing collected packages: opencensus-context, opencensus, hiredis, aioredis, redis, colorful, py-spy, aiohttp-cors, nvidia-ml-py3, blessings, gpustat, tensorboardX, tabulate, ray\n",
      "Successfully installed aiohttp-cors-0.7.0 aioredis-1.3.1 blessings-1.7 colorful-0.5.4 gpustat-0.6.0 hiredis-1.1.0 nvidia-ml-py3-7.352.0 opencensus-0.7.12 opencensus-context-0.1.2 py-spy-0.3.4 ray-1.1.0 redis-3.5.3 tabulate-0.8.7 tensorboardX-2.1\n",
      "Note: you may need to restart the kernel to use updated packages.\n"
     ]
    }
   ],
   "source": [
    "pip install 'ray[tune]' torch torchvision"
   ]
  },
  {
   "cell_type": "code",
   "execution_count": 43,
   "metadata": {},
   "outputs": [],
   "source": [
    "import torch.optim as optim\n",
    "from ray import tune\n",
    "from ray.tune.examples.mnist_pytorch import get_data_loaders, train, test"
   ]
  },
  {
   "cell_type": "code",
   "execution_count": 44,
   "metadata": {},
   "outputs": [],
   "source": [
    "def train_mnist(config):\n",
    "    train_loader, test_loader = get_data_loaders()\n",
    "    model = ConvNet()\n",
    "    optimizer = optim.SGD(model.parameters(), lr=config[\"lr\"])\n",
    "    for i in range(10):\n",
    "        train(model, optimizer, train_loader)\n",
    "        acc = test(model, test_loader)\n",
    "        tune.report(mean_accuracy=acc)"
   ]
  },
  {
   "cell_type": "code",
   "execution_count": 45,
   "metadata": {},
   "outputs": [
    {
     "name": "stderr",
     "output_type": "stream",
     "text": [
      "2021-01-19 19:44:00,412\tINFO services.py:1173 -- View the Ray dashboard at \u001b[1m\u001b[32mhttp://127.0.0.1:8265\u001b[39m\u001b[22m\n",
      "2021-01-19 19:44:02,921\tWARNING function_runner.py:540 -- Function checkpointing is disabled. This may result in unexpected behavior when using checkpointing features or certain schedulers. To enable, set the train function arguments to be `func(config, checkpoint_dir=None)`.\n"
     ]
    },
    {
     "data": {
      "text/html": [
       "== Status ==<br>Memory usage on this node: 9.4/16.0 GiB<br>Using FIFO scheduling algorithm.<br>Resources requested: 1/12 CPUs, 0/0 GPUs, 0.0/5.27 GiB heap, 0.0/1.81 GiB objects<br>Result logdir: /Users/kimjinsung/ray_results/train_mnist_2021-01-19_19-44-02<br>Number of trials: 1/3 (1 RUNNING)<br><table>\n",
       "<thead>\n",
       "<tr><th>Trial name             </th><th>status  </th><th>loc  </th><th style=\"text-align: right;\">   lr</th></tr>\n",
       "</thead>\n",
       "<tbody>\n",
       "<tr><td>train_mnist_3ee39_00000</td><td>RUNNING </td><td>     </td><td style=\"text-align: right;\">0.001</td></tr>\n",
       "</tbody>\n",
       "</table><br><br>"
      ],
      "text/plain": [
       "<IPython.core.display.HTML object>"
      ]
     },
     "metadata": {},
     "output_type": "display_data"
    },
    {
     "name": "stderr",
     "output_type": "stream",
     "text": [
      "\u001b[2m\u001b[36m(pid=15234)\u001b[0m \r",
      "0it [00:00, ?it/s]\n"
     ]
    },
    {
     "name": "stdout",
     "output_type": "stream",
     "text": [
      "\u001b[2m\u001b[36m(pid=15234)\u001b[0m Downloading http://yann.lecun.com/exdb/mnist/train-images-idx3-ubyte.gz to /Users/kimjinsung/data/MNIST/raw/train-images-idx3-ubyte.gz\n"
     ]
    },
    {
     "name": "stderr",
     "output_type": "stream",
     "text": [
      "  0%|          | 0/9912422 [00:00<?, ?it/s]\n",
      "  1%|▏         | 139264/9912422 [00:00<00:07, 1344181.82it/s]\n",
      " 11%|█         | 1048576/9912422 [00:00<00:01, 5802552.78it/s]\n",
      " 29%|██▉       | 2883584/9912422 [00:00<00:00, 11266000.42it/s]\n",
      " 53%|█████▎    | 5210112/9912422 [00:00<00:00, 15882870.88it/s]\n",
      " 80%|███████▉  | 7929856/9912422 [00:01<00:00, 19853945.55it/s]\n",
      "100%|█████████▉| 9904128/9912422 [00:01<00:00, 19816382.84it/s]\n"
     ]
    },
    {
     "name": "stdout",
     "output_type": "stream",
     "text": [
      "\u001b[2m\u001b[36m(pid=15234)\u001b[0m Extracting /Users/kimjinsung/data/MNIST/raw/train-images-idx3-ubyte.gz to /Users/kimjinsung/data/MNIST/raw\n"
     ]
    },
    {
     "name": "stderr",
     "output_type": "stream",
     "text": [
      "\u001b[2m\u001b[36m(pid=15234)\u001b[0m \n",
      "\u001b[2m\u001b[36m(pid=15234)\u001b[0m \r",
      "0it [00:00, ?it/s]\u001b[A\n"
     ]
    },
    {
     "name": "stdout",
     "output_type": "stream",
     "text": [
      "\u001b[2m\u001b[36m(pid=15234)\u001b[0m Downloading http://yann.lecun.com/exdb/mnist/train-labels-idx1-ubyte.gz to /Users/kimjinsung/data/MNIST/raw/train-labels-idx1-ubyte.gz\n"
     ]
    },
    {
     "name": "stderr",
     "output_type": "stream",
     "text": [
      "\u001b[2m\u001b[36m(pid=15234)\u001b[0m \n",
      "\u001b[2m\u001b[36m(pid=15234)\u001b[0m \r",
      "  0%|          | 0/28881 [00:00<?, ?it/s]\u001b[A\n",
      "\u001b[2m\u001b[36m(pid=15234)\u001b[0m \n",
      "\u001b[2m\u001b[36m(pid=15234)\u001b[0m \r",
      " 57%|█████▋    | 16384/28881 [00:00<00:00, 97201.99it/s]\u001b[A\n",
      "\u001b[2m\u001b[36m(pid=15234)\u001b[0m \n",
      "\u001b[2m\u001b[36m(pid=15234)\u001b[0m \r",
      "0it [00:00, ?it/s]\u001b[A\u001b[A\n"
     ]
    },
    {
     "name": "stdout",
     "output_type": "stream",
     "text": [
      "\u001b[2m\u001b[36m(pid=15234)\u001b[0m Extracting /Users/kimjinsung/data/MNIST/raw/train-labels-idx1-ubyte.gz to /Users/kimjinsung/data/MNIST/raw\n",
      "\u001b[2m\u001b[36m(pid=15234)\u001b[0m Downloading http://yann.lecun.com/exdb/mnist/t10k-images-idx3-ubyte.gz to /Users/kimjinsung/data/MNIST/raw/t10k-images-idx3-ubyte.gz\n"
     ]
    },
    {
     "name": "stderr",
     "output_type": "stream",
     "text": [
      "\u001b[2m\u001b[36m(pid=15234)\u001b[0m \n",
      "\u001b[2m\u001b[36m(pid=15234)\u001b[0m \n",
      "  0%|          | 0/1648877 [00:00<?, ?it/s]\u001b[A\u001b[A\n",
      "\u001b[2m\u001b[36m(pid=15234)\u001b[0m \n",
      "\u001b[2m\u001b[36m(pid=15234)\u001b[0m \n",
      " 12%|█▏        | 204800/1648877 [00:00<00:00, 2025216.28it/s]\u001b[A\u001b[A\n",
      "\u001b[2m\u001b[36m(pid=15234)\u001b[0m \n",
      "\u001b[2m\u001b[36m(pid=15234)\u001b[0m \n",
      " 63%|██████▎   | 1040384/1648877 [00:00<00:00, 5568912.55it/s]\u001b[A\u001b[A\n",
      "\u001b[2m\u001b[36m(pid=15234)\u001b[0m \n",
      "\u001b[2m\u001b[36m(pid=15234)\u001b[0m \n",
      "\u001b[2m\u001b[36m(pid=15234)\u001b[0m \n",
      "0it [00:00, ?it/s]\u001b[A\u001b[A\u001b[A\n"
     ]
    },
    {
     "name": "stdout",
     "output_type": "stream",
     "text": [
      "\u001b[2m\u001b[36m(pid=15234)\u001b[0m Extracting /Users/kimjinsung/data/MNIST/raw/t10k-images-idx3-ubyte.gz to /Users/kimjinsung/data/MNIST/raw\n",
      "\u001b[2m\u001b[36m(pid=15234)\u001b[0m Downloading http://yann.lecun.com/exdb/mnist/t10k-labels-idx1-ubyte.gz to /Users/kimjinsung/data/MNIST/raw/t10k-labels-idx1-ubyte.gz\n"
     ]
    },
    {
     "name": "stderr",
     "output_type": "stream",
     "text": [
      "\u001b[2m\u001b[36m(pid=15234)\u001b[0m \n",
      "\u001b[2m\u001b[36m(pid=15234)\u001b[0m \n",
      "\u001b[2m\u001b[36m(pid=15234)\u001b[0m \n",
      "\u001b[2m\u001b[36m(pid=15234)\u001b[0m \r",
      "  0%|          | 0/4542 [00:02<?, ?it/s]\u001b[A\u001b[A\u001b[A/opt/anaconda3/lib/python3.7/site-packages/torchvision/datasets/mnist.py:480: UserWarning: The given NumPy array is not writeable, and PyTorch does not support non-writeable tensors. This means you can write to the underlying (supposedly non-writeable) NumPy array using the tensor. You may want to copy the array to protect its data or make it writeable before converting it to a tensor. This type of warning will be suppressed for the rest of this program. (Triggered internally at  /Users/distiller/project/conda/conda-bld/pytorch_1607370126481/work/torch/csrc/utils/tensor_numpy.cpp:141.)\n",
      "\u001b[2m\u001b[36m(pid=15234)\u001b[0m   return torch.from_numpy(parsed.astype(m[2], copy=False)).view(*s)\n",
      "\u001b[2m\u001b[36m(pid=15234)\u001b[0m \r",
      "32768it [00:04, 7087.72it/s]                            \n",
      "\u001b[2m\u001b[36m(pid=15234)\u001b[0m \r",
      "1654784it [00:03, 415051.35it/s]                              \n",
      "\u001b[2m\u001b[36m(pid=15234)\u001b[0m \r",
      "8192it [00:03, 2640.99it/s]             \n",
      "\u001b[2m\u001b[36m(pid=15234)\u001b[0m 2021-01-19 19:44:09,780\tERROR function_runner.py:254 -- Runner Thread raised error.\n",
      "\u001b[2m\u001b[36m(pid=15234)\u001b[0m Traceback (most recent call last):\n",
      "\u001b[2m\u001b[36m(pid=15234)\u001b[0m   File \"/opt/anaconda3/lib/python3.7/site-packages/ray/tune/function_runner.py\", line 248, in run\n",
      "\u001b[2m\u001b[36m(pid=15234)\u001b[0m     self._entrypoint()\n",
      "\u001b[2m\u001b[36m(pid=15234)\u001b[0m   File \"/opt/anaconda3/lib/python3.7/site-packages/ray/tune/function_runner.py\", line 316, in entrypoint\n",
      "\u001b[2m\u001b[36m(pid=15234)\u001b[0m     self._status_reporter.get_checkpoint())\n",
      "\u001b[2m\u001b[36m(pid=15234)\u001b[0m   File \"/opt/anaconda3/lib/python3.7/site-packages/ray/tune/function_runner.py\", line 575, in _trainable_func\n",
      "\u001b[2m\u001b[36m(pid=15234)\u001b[0m     output = fn()\n",
      "\u001b[2m\u001b[36m(pid=15234)\u001b[0m   File \"<ipython-input-44-7ca1dfcabe9c>\", line 3, in train_mnist\n",
      "\u001b[2m\u001b[36m(pid=15234)\u001b[0m NameError: name 'ConvNet' is not defined\n",
      "\u001b[2m\u001b[36m(pid=15234)\u001b[0m Exception in thread Thread-2:\n",
      "\u001b[2m\u001b[36m(pid=15234)\u001b[0m Traceback (most recent call last):\n",
      "\u001b[2m\u001b[36m(pid=15234)\u001b[0m   File \"/opt/anaconda3/lib/python3.7/threading.py\", line 926, in _bootstrap_inner\n",
      "\u001b[2m\u001b[36m(pid=15234)\u001b[0m     self.run()\n",
      "\u001b[2m\u001b[36m(pid=15234)\u001b[0m   File \"/opt/anaconda3/lib/python3.7/site-packages/ray/tune/function_runner.py\", line 267, in run\n",
      "\u001b[2m\u001b[36m(pid=15234)\u001b[0m     raise e\n",
      "\u001b[2m\u001b[36m(pid=15234)\u001b[0m   File \"/opt/anaconda3/lib/python3.7/site-packages/ray/tune/function_runner.py\", line 248, in run\n",
      "\u001b[2m\u001b[36m(pid=15234)\u001b[0m     self._entrypoint()\n",
      "\u001b[2m\u001b[36m(pid=15234)\u001b[0m   File \"/opt/anaconda3/lib/python3.7/site-packages/ray/tune/function_runner.py\", line 316, in entrypoint\n",
      "\u001b[2m\u001b[36m(pid=15234)\u001b[0m     self._status_reporter.get_checkpoint())\n",
      "\u001b[2m\u001b[36m(pid=15234)\u001b[0m   File \"/opt/anaconda3/lib/python3.7/site-packages/ray/tune/function_runner.py\", line 575, in _trainable_func\n",
      "\u001b[2m\u001b[36m(pid=15234)\u001b[0m     output = fn()\n",
      "\u001b[2m\u001b[36m(pid=15234)\u001b[0m   File \"<ipython-input-44-7ca1dfcabe9c>\", line 3, in train_mnist\n",
      "\u001b[2m\u001b[36m(pid=15234)\u001b[0m NameError: name 'ConvNet' is not defined\n",
      "\u001b[2m\u001b[36m(pid=15234)\u001b[0m \n",
      "2021-01-19 19:44:09,808\tERROR trial_runner.py:607 -- Trial train_mnist_3ee39_00002: Error processing event.\n",
      "Traceback (most recent call last):\n",
      "  File \"/opt/anaconda3/lib/python3.7/site-packages/ray/tune/trial_runner.py\", line 519, in _process_trial\n",
      "    result = self.trial_executor.fetch_result(trial)\n",
      "  File \"/opt/anaconda3/lib/python3.7/site-packages/ray/tune/ray_trial_executor.py\", line 497, in fetch_result\n",
      "    result = ray.get(trial_future[0], timeout=DEFAULT_GET_TIMEOUT)\n",
      "  File \"/opt/anaconda3/lib/python3.7/site-packages/ray/worker.py\", line 1379, in get\n",
      "    raise value.as_instanceof_cause()\n",
      "ray.exceptions.RayTaskError(TuneError): \u001b[36mray::ImplicitFunc.train()\u001b[39m (pid=15234, ip=192.168.123.102)\n",
      "  File \"python/ray/_raylet.pyx\", line 463, in ray._raylet.execute_task\n",
      "  File \"python/ray/_raylet.pyx\", line 415, in ray._raylet.execute_task.function_executor\n",
      "  File \"/opt/anaconda3/lib/python3.7/site-packages/ray/tune/trainable.py\", line 183, in train\n",
      "    result = self.step()\n",
      "  File \"/opt/anaconda3/lib/python3.7/site-packages/ray/tune/function_runner.py\", line 366, in step\n",
      "    self._report_thread_runner_error(block=True)\n",
      "  File \"/opt/anaconda3/lib/python3.7/site-packages/ray/tune/function_runner.py\", line 513, in _report_thread_runner_error\n",
      "    .format(err_tb_str)))\n",
      "ray.tune.error.TuneError: Trial raised an exception. Traceback:\n",
      "\u001b[36mray::ImplicitFunc.train()\u001b[39m (pid=15234, ip=192.168.123.102)\n",
      "  File \"/opt/anaconda3/lib/python3.7/site-packages/ray/tune/function_runner.py\", line 248, in run\n",
      "    self._entrypoint()\n",
      "  File \"/opt/anaconda3/lib/python3.7/site-packages/ray/tune/function_runner.py\", line 316, in entrypoint\n",
      "    self._status_reporter.get_checkpoint())\n",
      "  File \"/opt/anaconda3/lib/python3.7/site-packages/ray/tune/function_runner.py\", line 575, in _trainable_func\n",
      "    output = fn()\n",
      "  File \"<ipython-input-44-7ca1dfcabe9c>\", line 3, in train_mnist\n",
      "NameError: name 'ConvNet' is not defined\n"
     ]
    },
    {
     "name": "stdout",
     "output_type": "stream",
     "text": [
      "\u001b[2m\u001b[36m(pid=15234)\u001b[0m Extracting /Users/kimjinsung/data/MNIST/raw/t10k-labels-idx1-ubyte.gz to /Users/kimjinsung/data/MNIST/raw\n",
      "\u001b[2m\u001b[36m(pid=15234)\u001b[0m Processing...\n",
      "\u001b[2m\u001b[36m(pid=15234)\u001b[0m Done!\n",
      "Result for train_mnist_3ee39_00002:\n",
      "  {}\n",
      "  \n"
     ]
    },
    {
     "data": {
      "text/html": [
       "== Status ==<br>Memory usage on this node: 9.9/16.0 GiB<br>Using FIFO scheduling algorithm.<br>Resources requested: 2/12 CPUs, 0/0 GPUs, 0.0/5.27 GiB heap, 0.0/1.81 GiB objects<br>Result logdir: /Users/kimjinsung/ray_results/train_mnist_2021-01-19_19-44-02<br>Number of trials: 3/3 (1 ERROR, 2 RUNNING)<br><table>\n",
       "<thead>\n",
       "<tr><th>Trial name             </th><th>status  </th><th>loc  </th><th style=\"text-align: right;\">   lr</th></tr>\n",
       "</thead>\n",
       "<tbody>\n",
       "<tr><td>train_mnist_3ee39_00000</td><td>RUNNING </td><td>     </td><td style=\"text-align: right;\">0.001</td></tr>\n",
       "<tr><td>train_mnist_3ee39_00001</td><td>RUNNING </td><td>     </td><td style=\"text-align: right;\">0.01 </td></tr>\n",
       "<tr><td>train_mnist_3ee39_00002</td><td>ERROR   </td><td>     </td><td style=\"text-align: right;\">0.1  </td></tr>\n",
       "</tbody>\n",
       "</table><br>Number of errored trials: 1<br><table>\n",
       "<thead>\n",
       "<tr><th>Trial name             </th><th style=\"text-align: right;\">  # failures</th><th>error file                                                                                                                  </th></tr>\n",
       "</thead>\n",
       "<tbody>\n",
       "<tr><td>train_mnist_3ee39_00002</td><td style=\"text-align: right;\">           1</td><td>/Users/kimjinsung/ray_results/train_mnist_2021-01-19_19-44-02/train_mnist_3ee39_00002_2_lr=0.1_2021-01-19_19-44-03/error.txt</td></tr>\n",
       "</tbody>\n",
       "</table><br>"
      ],
      "text/plain": [
       "<IPython.core.display.HTML object>"
      ]
     },
     "metadata": {},
     "output_type": "display_data"
    },
    {
     "name": "stderr",
     "output_type": "stream",
     "text": [
      "\u001b[2m\u001b[36m(pid=15233)\u001b[0m 2021-01-19 19:44:09,816\tERROR function_runner.py:254 -- Runner Thread raised error.\n",
      "\u001b[2m\u001b[36m(pid=15233)\u001b[0m Traceback (most recent call last):\n",
      "\u001b[2m\u001b[36m(pid=15233)\u001b[0m   File \"/opt/anaconda3/lib/python3.7/site-packages/ray/tune/function_runner.py\", line 248, in run\n",
      "\u001b[2m\u001b[36m(pid=15233)\u001b[0m     self._entrypoint()\n",
      "\u001b[2m\u001b[36m(pid=15233)\u001b[0m   File \"/opt/anaconda3/lib/python3.7/site-packages/ray/tune/function_runner.py\", line 316, in entrypoint\n",
      "\u001b[2m\u001b[36m(pid=15233)\u001b[0m     self._status_reporter.get_checkpoint())\n",
      "\u001b[2m\u001b[36m(pid=15233)\u001b[0m   File \"/opt/anaconda3/lib/python3.7/site-packages/ray/tune/function_runner.py\", line 575, in _trainable_func\n",
      "\u001b[2m\u001b[36m(pid=15233)\u001b[0m     output = fn()\n",
      "\u001b[2m\u001b[36m(pid=15233)\u001b[0m   File \"<ipython-input-44-7ca1dfcabe9c>\", line 3, in train_mnist\n",
      "\u001b[2m\u001b[36m(pid=15233)\u001b[0m NameError: name 'ConvNet' is not defined\n",
      "\u001b[2m\u001b[36m(pid=15233)\u001b[0m Exception in thread Thread-2:\n",
      "\u001b[2m\u001b[36m(pid=15233)\u001b[0m Traceback (most recent call last):\n",
      "\u001b[2m\u001b[36m(pid=15233)\u001b[0m   File \"/opt/anaconda3/lib/python3.7/threading.py\", line 926, in _bootstrap_inner\n",
      "\u001b[2m\u001b[36m(pid=15233)\u001b[0m     self.run()\n",
      "\u001b[2m\u001b[36m(pid=15233)\u001b[0m   File \"/opt/anaconda3/lib/python3.7/site-packages/ray/tune/function_runner.py\", line 267, in run\n",
      "\u001b[2m\u001b[36m(pid=15233)\u001b[0m     raise e\n",
      "\u001b[2m\u001b[36m(pid=15233)\u001b[0m   File \"/opt/anaconda3/lib/python3.7/site-packages/ray/tune/function_runner.py\", line 248, in run\n",
      "\u001b[2m\u001b[36m(pid=15233)\u001b[0m     self._entrypoint()\n",
      "\u001b[2m\u001b[36m(pid=15233)\u001b[0m   File \"/opt/anaconda3/lib/python3.7/site-packages/ray/tune/function_runner.py\", line 316, in entrypoint\n",
      "\u001b[2m\u001b[36m(pid=15233)\u001b[0m     self._status_reporter.get_checkpoint())\n",
      "\u001b[2m\u001b[36m(pid=15233)\u001b[0m   File \"/opt/anaconda3/lib/python3.7/site-packages/ray/tune/function_runner.py\", line 575, in _trainable_func\n",
      "\u001b[2m\u001b[36m(pid=15233)\u001b[0m     output = fn()\n",
      "\u001b[2m\u001b[36m(pid=15233)\u001b[0m   File \"<ipython-input-44-7ca1dfcabe9c>\", line 3, in train_mnist\n",
      "\u001b[2m\u001b[36m(pid=15233)\u001b[0m NameError: name 'ConvNet' is not defined\n",
      "\u001b[2m\u001b[36m(pid=15233)\u001b[0m \n",
      "\u001b[2m\u001b[36m(pid=15230)\u001b[0m 2021-01-19 19:44:09,861\tERROR function_runner.py:254 -- Runner Thread raised error.\n",
      "\u001b[2m\u001b[36m(pid=15230)\u001b[0m Traceback (most recent call last):\n",
      "\u001b[2m\u001b[36m(pid=15230)\u001b[0m   File \"/opt/anaconda3/lib/python3.7/site-packages/ray/tune/function_runner.py\", line 248, in run\n",
      "\u001b[2m\u001b[36m(pid=15230)\u001b[0m     self._entrypoint()\n",
      "\u001b[2m\u001b[36m(pid=15230)\u001b[0m   File \"/opt/anaconda3/lib/python3.7/site-packages/ray/tune/function_runner.py\", line 316, in entrypoint\n",
      "\u001b[2m\u001b[36m(pid=15230)\u001b[0m     self._status_reporter.get_checkpoint())\n",
      "\u001b[2m\u001b[36m(pid=15230)\u001b[0m   File \"/opt/anaconda3/lib/python3.7/site-packages/ray/tune/function_runner.py\", line 575, in _trainable_func\n",
      "\u001b[2m\u001b[36m(pid=15230)\u001b[0m     output = fn()\n",
      "\u001b[2m\u001b[36m(pid=15230)\u001b[0m   File \"<ipython-input-44-7ca1dfcabe9c>\", line 3, in train_mnist\n",
      "\u001b[2m\u001b[36m(pid=15230)\u001b[0m NameError: name 'ConvNet' is not defined\n",
      "\u001b[2m\u001b[36m(pid=15230)\u001b[0m Exception in thread Thread-2:\n",
      "\u001b[2m\u001b[36m(pid=15230)\u001b[0m Traceback (most recent call last):\n",
      "\u001b[2m\u001b[36m(pid=15230)\u001b[0m   File \"/opt/anaconda3/lib/python3.7/threading.py\", line 926, in _bootstrap_inner\n",
      "\u001b[2m\u001b[36m(pid=15230)\u001b[0m     self.run()\n",
      "\u001b[2m\u001b[36m(pid=15230)\u001b[0m   File \"/opt/anaconda3/lib/python3.7/site-packages/ray/tune/function_runner.py\", line 267, in run\n",
      "\u001b[2m\u001b[36m(pid=15230)\u001b[0m     raise e\n",
      "\u001b[2m\u001b[36m(pid=15230)\u001b[0m   File \"/opt/anaconda3/lib/python3.7/site-packages/ray/tune/function_runner.py\", line 248, in run\n",
      "\u001b[2m\u001b[36m(pid=15230)\u001b[0m     self._entrypoint()\n",
      "\u001b[2m\u001b[36m(pid=15230)\u001b[0m   File \"/opt/anaconda3/lib/python3.7/site-packages/ray/tune/function_runner.py\", line 316, in entrypoint\n",
      "\u001b[2m\u001b[36m(pid=15230)\u001b[0m     self._status_reporter.get_checkpoint())\n",
      "\u001b[2m\u001b[36m(pid=15230)\u001b[0m   File \"/opt/anaconda3/lib/python3.7/site-packages/ray/tune/function_runner.py\", line 575, in _trainable_func\n",
      "\u001b[2m\u001b[36m(pid=15230)\u001b[0m     output = fn()\n",
      "\u001b[2m\u001b[36m(pid=15230)\u001b[0m   File \"<ipython-input-44-7ca1dfcabe9c>\", line 3, in train_mnist\n",
      "\u001b[2m\u001b[36m(pid=15230)\u001b[0m NameError: name 'ConvNet' is not defined\n",
      "\u001b[2m\u001b[36m(pid=15230)\u001b[0m \n",
      "2021-01-19 19:44:10,005\tERROR trial_runner.py:607 -- Trial train_mnist_3ee39_00000: Error processing event.\n",
      "Traceback (most recent call last):\n",
      "  File \"/opt/anaconda3/lib/python3.7/site-packages/ray/tune/trial_runner.py\", line 519, in _process_trial\n",
      "    result = self.trial_executor.fetch_result(trial)\n",
      "  File \"/opt/anaconda3/lib/python3.7/site-packages/ray/tune/ray_trial_executor.py\", line 497, in fetch_result\n",
      "    result = ray.get(trial_future[0], timeout=DEFAULT_GET_TIMEOUT)\n",
      "  File \"/opt/anaconda3/lib/python3.7/site-packages/ray/worker.py\", line 1379, in get\n",
      "    raise value.as_instanceof_cause()\n",
      "ray.exceptions.RayTaskError(TuneError): \u001b[36mray::ImplicitFunc.train()\u001b[39m (pid=15230, ip=192.168.123.102)\n",
      "  File \"python/ray/_raylet.pyx\", line 463, in ray._raylet.execute_task\n",
      "  File \"python/ray/_raylet.pyx\", line 415, in ray._raylet.execute_task.function_executor\n",
      "  File \"/opt/anaconda3/lib/python3.7/site-packages/ray/tune/trainable.py\", line 183, in train\n",
      "    result = self.step()\n",
      "  File \"/opt/anaconda3/lib/python3.7/site-packages/ray/tune/function_runner.py\", line 366, in step\n",
      "    self._report_thread_runner_error(block=True)\n",
      "  File \"/opt/anaconda3/lib/python3.7/site-packages/ray/tune/function_runner.py\", line 513, in _report_thread_runner_error\n",
      "    .format(err_tb_str)))\n",
      "ray.tune.error.TuneError: Trial raised an exception. Traceback:\n",
      "\u001b[36mray::ImplicitFunc.train()\u001b[39m (pid=15230, ip=192.168.123.102)\n",
      "  File \"/opt/anaconda3/lib/python3.7/site-packages/ray/tune/function_runner.py\", line 248, in run\n",
      "    self._entrypoint()\n",
      "  File \"/opt/anaconda3/lib/python3.7/site-packages/ray/tune/function_runner.py\", line 316, in entrypoint\n",
      "    self._status_reporter.get_checkpoint())\n",
      "  File \"/opt/anaconda3/lib/python3.7/site-packages/ray/tune/function_runner.py\", line 575, in _trainable_func\n",
      "    output = fn()\n",
      "  File \"<ipython-input-44-7ca1dfcabe9c>\", line 3, in train_mnist\n",
      "NameError: name 'ConvNet' is not defined\n",
      "2021-01-19 19:44:10,023\tERROR trial_runner.py:607 -- Trial train_mnist_3ee39_00001: Error processing event.\n",
      "Traceback (most recent call last):\n",
      "  File \"/opt/anaconda3/lib/python3.7/site-packages/ray/tune/trial_runner.py\", line 519, in _process_trial\n",
      "    result = self.trial_executor.fetch_result(trial)\n",
      "  File \"/opt/anaconda3/lib/python3.7/site-packages/ray/tune/ray_trial_executor.py\", line 497, in fetch_result\n",
      "    result = ray.get(trial_future[0], timeout=DEFAULT_GET_TIMEOUT)\n",
      "  File \"/opt/anaconda3/lib/python3.7/site-packages/ray/worker.py\", line 1379, in get\n",
      "    raise value.as_instanceof_cause()\n",
      "ray.exceptions.RayTaskError(TuneError): \u001b[36mray::ImplicitFunc.train()\u001b[39m (pid=15233, ip=192.168.123.102)\n",
      "  File \"python/ray/_raylet.pyx\", line 463, in ray._raylet.execute_task\n",
      "  File \"python/ray/_raylet.pyx\", line 415, in ray._raylet.execute_task.function_executor\n",
      "  File \"/opt/anaconda3/lib/python3.7/site-packages/ray/tune/trainable.py\", line 183, in train\n",
      "    result = self.step()\n",
      "  File \"/opt/anaconda3/lib/python3.7/site-packages/ray/tune/function_runner.py\", line 366, in step\n",
      "    self._report_thread_runner_error(block=True)\n",
      "  File \"/opt/anaconda3/lib/python3.7/site-packages/ray/tune/function_runner.py\", line 513, in _report_thread_runner_error\n",
      "    .format(err_tb_str)))\n",
      "ray.tune.error.TuneError: Trial raised an exception. Traceback:\n",
      "\u001b[36mray::ImplicitFunc.train()\u001b[39m (pid=15233, ip=192.168.123.102)\n",
      "  File \"/opt/anaconda3/lib/python3.7/site-packages/ray/tune/function_runner.py\", line 248, in run\n",
      "    self._entrypoint()\n",
      "  File \"/opt/anaconda3/lib/python3.7/site-packages/ray/tune/function_runner.py\", line 316, in entrypoint\n",
      "    self._status_reporter.get_checkpoint())\n",
      "  File \"/opt/anaconda3/lib/python3.7/site-packages/ray/tune/function_runner.py\", line 575, in _trainable_func\n",
      "    output = fn()\n",
      "  File \"<ipython-input-44-7ca1dfcabe9c>\", line 3, in train_mnist\n",
      "NameError: name 'ConvNet' is not defined\n"
     ]
    },
    {
     "name": "stdout",
     "output_type": "stream",
     "text": [
      "Result for train_mnist_3ee39_00000:\n",
      "  {}\n",
      "  \n",
      "Result for train_mnist_3ee39_00001:\n",
      "  {}\n",
      "  \n"
     ]
    },
    {
     "name": "stderr",
     "output_type": "stream",
     "text": [
      "\u001b[2m\u001b[36m(pid=15234)\u001b[0m \r",
      "9920512it [00:06, 1588129.83it/s]                              \n"
     ]
    },
    {
     "data": {
      "text/html": [
       "== Status ==<br>Memory usage on this node: 9.9/16.0 GiB<br>Using FIFO scheduling algorithm.<br>Resources requested: 0/12 CPUs, 0/0 GPUs, 0.0/5.27 GiB heap, 0.0/1.81 GiB objects<br>Result logdir: /Users/kimjinsung/ray_results/train_mnist_2021-01-19_19-44-02<br>Number of trials: 3/3 (3 ERROR)<br><table>\n",
       "<thead>\n",
       "<tr><th>Trial name             </th><th>status  </th><th>loc  </th><th style=\"text-align: right;\">   lr</th></tr>\n",
       "</thead>\n",
       "<tbody>\n",
       "<tr><td>train_mnist_3ee39_00000</td><td>ERROR   </td><td>     </td><td style=\"text-align: right;\">0.001</td></tr>\n",
       "<tr><td>train_mnist_3ee39_00001</td><td>ERROR   </td><td>     </td><td style=\"text-align: right;\">0.01 </td></tr>\n",
       "<tr><td>train_mnist_3ee39_00002</td><td>ERROR   </td><td>     </td><td style=\"text-align: right;\">0.1  </td></tr>\n",
       "</tbody>\n",
       "</table><br>Number of errored trials: 3<br><table>\n",
       "<thead>\n",
       "<tr><th>Trial name             </th><th style=\"text-align: right;\">  # failures</th><th>error file                                                                                                                    </th></tr>\n",
       "</thead>\n",
       "<tbody>\n",
       "<tr><td>train_mnist_3ee39_00000</td><td style=\"text-align: right;\">           1</td><td>/Users/kimjinsung/ray_results/train_mnist_2021-01-19_19-44-02/train_mnist_3ee39_00000_0_lr=0.001_2021-01-19_19-44-02/error.txt</td></tr>\n",
       "<tr><td>train_mnist_3ee39_00001</td><td style=\"text-align: right;\">           1</td><td>/Users/kimjinsung/ray_results/train_mnist_2021-01-19_19-44-02/train_mnist_3ee39_00001_1_lr=0.01_2021-01-19_19-44-03/error.txt </td></tr>\n",
       "<tr><td>train_mnist_3ee39_00002</td><td style=\"text-align: right;\">           1</td><td>/Users/kimjinsung/ray_results/train_mnist_2021-01-19_19-44-02/train_mnist_3ee39_00002_2_lr=0.1_2021-01-19_19-44-03/error.txt  </td></tr>\n",
       "</tbody>\n",
       "</table><br>"
      ],
      "text/plain": [
       "<IPython.core.display.HTML object>"
      ]
     },
     "metadata": {},
     "output_type": "display_data"
    },
    {
     "ename": "TuneError",
     "evalue": "('Trials did not complete', [train_mnist_3ee39_00000, train_mnist_3ee39_00001, train_mnist_3ee39_00002])",
     "output_type": "error",
     "traceback": [
      "\u001b[0;31m---------------------------------------------------------------------------\u001b[0m",
      "\u001b[0;31mTuneError\u001b[0m                                 Traceback (most recent call last)",
      "\u001b[0;32m<ipython-input-45-3dc3f2d11a09>\u001b[0m in \u001b[0;36m<module>\u001b[0;34m\u001b[0m\n\u001b[1;32m      1\u001b[0m analysis = tune.run(train_mnist, config={\n\u001b[0;32m----> 2\u001b[0;31m     \u001b[0;34m\"lr\"\u001b[0m\u001b[0;34m:\u001b[0m \u001b[0mtune\u001b[0m\u001b[0;34m.\u001b[0m\u001b[0mgrid_search\u001b[0m\u001b[0;34m(\u001b[0m\u001b[0;34m[\u001b[0m\u001b[0;36m0.001\u001b[0m\u001b[0;34m,\u001b[0m \u001b[0;36m0.01\u001b[0m\u001b[0;34m,\u001b[0m \u001b[0;36m0.1\u001b[0m\u001b[0;34m]\u001b[0m\u001b[0;34m)\u001b[0m\u001b[0;34m\u001b[0m\u001b[0;34m\u001b[0m\u001b[0m\n\u001b[0m\u001b[1;32m      3\u001b[0m })\n\u001b[1;32m      4\u001b[0m \u001b[0mprint\u001b[0m\u001b[0;34m(\u001b[0m\u001b[0;34m\"Best config: \"\u001b[0m\u001b[0;34m,\u001b[0m \u001b[0manalysis\u001b[0m\u001b[0;34m.\u001b[0m\u001b[0mget_best_config\u001b[0m\u001b[0;34m(\u001b[0m\u001b[0mmetirc\u001b[0m\u001b[0;34m=\u001b[0m\u001b[0;34m\"mean_accuracy\"\u001b[0m\u001b[0;34m)\u001b[0m\u001b[0;34m)\u001b[0m\u001b[0;34m\u001b[0m\u001b[0;34m\u001b[0m\u001b[0m\n",
      "\u001b[0;32m/opt/anaconda3/lib/python3.7/site-packages/ray/tune/tune.py\u001b[0m in \u001b[0;36mrun\u001b[0;34m(run_or_experiment, name, metric, mode, stop, time_budget_s, config, resources_per_trial, num_samples, local_dir, search_alg, scheduler, keep_checkpoints_num, checkpoint_score_attr, checkpoint_freq, checkpoint_at_end, verbose, progress_reporter, log_to_file, trial_name_creator, trial_dirname_creator, sync_config, export_formats, max_failures, fail_fast, restore, server_port, resume, queue_trials, reuse_actors, trial_executor, raise_on_failed_trial, callbacks, loggers, ray_auto_init, run_errored_only, global_checkpoint_period, with_server, upload_dir, sync_to_cloud, sync_to_driver, sync_on_checkpoint)\u001b[0m\n\u001b[1;32m    440\u001b[0m     \u001b[0;32mif\u001b[0m \u001b[0mincomplete_trials\u001b[0m\u001b[0;34m:\u001b[0m\u001b[0;34m\u001b[0m\u001b[0;34m\u001b[0m\u001b[0m\n\u001b[1;32m    441\u001b[0m         \u001b[0;32mif\u001b[0m \u001b[0mraise_on_failed_trial\u001b[0m\u001b[0;34m:\u001b[0m\u001b[0;34m\u001b[0m\u001b[0;34m\u001b[0m\u001b[0m\n\u001b[0;32m--> 442\u001b[0;31m             \u001b[0;32mraise\u001b[0m \u001b[0mTuneError\u001b[0m\u001b[0;34m(\u001b[0m\u001b[0;34m\"Trials did not complete\"\u001b[0m\u001b[0;34m,\u001b[0m \u001b[0mincomplete_trials\u001b[0m\u001b[0;34m)\u001b[0m\u001b[0;34m\u001b[0m\u001b[0;34m\u001b[0m\u001b[0m\n\u001b[0m\u001b[1;32m    443\u001b[0m         \u001b[0;32melse\u001b[0m\u001b[0;34m:\u001b[0m\u001b[0;34m\u001b[0m\u001b[0;34m\u001b[0m\u001b[0m\n\u001b[1;32m    444\u001b[0m             \u001b[0mlogger\u001b[0m\u001b[0;34m.\u001b[0m\u001b[0merror\u001b[0m\u001b[0;34m(\u001b[0m\u001b[0;34m\"Trials did not complete: %s\"\u001b[0m\u001b[0;34m,\u001b[0m \u001b[0mincomplete_trials\u001b[0m\u001b[0;34m)\u001b[0m\u001b[0;34m\u001b[0m\u001b[0;34m\u001b[0m\u001b[0m\n",
      "\u001b[0;31mTuneError\u001b[0m: ('Trials did not complete', [train_mnist_3ee39_00000, train_mnist_3ee39_00001, train_mnist_3ee39_00002])"
     ]
    }
   ],
   "source": [
    "analysis = tune.run(train_mnist, config={\n",
    "    \"lr\": tune.grid_search([0.001, 0.01, 0.1])\n",
    "})\n",
    "print(\"Best config: \", analysis.get_best_config(metirc=\"mean_accuracy\"))"
   ]
  },
  {
   "cell_type": "markdown",
   "metadata": {},
   "source": [
    "#### 8. Sherpa"
   ]
  },
  {
   "cell_type": "code",
   "execution_count": 39,
   "metadata": {},
   "outputs": [
    {
     "name": "stdout",
     "output_type": "stream",
     "text": [
      "Collecting parameter-sherpa\n",
      "  Downloading parameter-sherpa-1.0.6.tar.gz (513 kB)\n",
      "\u001b[K     |████████████████████████████████| 513 kB 2.3 MB/s eta 0:00:01\n",
      "\u001b[?25hRequirement already satisfied: pandas>=0.20.3 in /opt/anaconda3/lib/python3.7/site-packages (from parameter-sherpa) (1.1.3)\n",
      "Requirement already satisfied: pymongo>=3.5.1 in /opt/anaconda3/lib/python3.7/site-packages (from parameter-sherpa) (3.11.0)\n",
      "Requirement already satisfied: numpy>=1.8.2 in /opt/anaconda3/lib/python3.7/site-packages (from parameter-sherpa) (1.19.2)\n",
      "Requirement already satisfied: scipy>=1.0.0 in /opt/anaconda3/lib/python3.7/site-packages (from parameter-sherpa) (1.5.2)\n",
      "Requirement already satisfied: scikit-learn>=0.19.1 in /opt/anaconda3/lib/python3.7/site-packages (from parameter-sherpa) (0.23.2)\n",
      "Requirement already satisfied: flask>=0.12.2 in /opt/anaconda3/lib/python3.7/site-packages (from parameter-sherpa) (1.1.2)\n",
      "Collecting GPyOpt>=1.2.5\n",
      "  Downloading GPyOpt-1.2.6.tar.gz (56 kB)\n",
      "\u001b[K     |████████████████████████████████| 56 kB 16.1 MB/s eta 0:00:01\n",
      "\u001b[?25hCollecting enum34\n",
      "  Downloading enum34-1.1.10-py3-none-any.whl (11 kB)\n",
      "Requirement already satisfied: matplotlib in /opt/anaconda3/lib/python3.7/site-packages (from parameter-sherpa) (3.3.2)\n",
      "Requirement already satisfied: python-dateutil>=2.7.3 in /opt/anaconda3/lib/python3.7/site-packages (from pandas>=0.20.3->parameter-sherpa) (2.8.1)\n",
      "Requirement already satisfied: pytz>=2017.2 in /opt/anaconda3/lib/python3.7/site-packages (from pandas>=0.20.3->parameter-sherpa) (2020.1)\n",
      "Requirement already satisfied: threadpoolctl>=2.0.0 in /opt/anaconda3/lib/python3.7/site-packages (from scikit-learn>=0.19.1->parameter-sherpa) (2.1.0)\n",
      "Requirement already satisfied: joblib>=0.11 in /opt/anaconda3/lib/python3.7/site-packages (from scikit-learn>=0.19.1->parameter-sherpa) (0.17.0)\n",
      "Requirement already satisfied: Jinja2>=2.10.1 in /opt/anaconda3/lib/python3.7/site-packages (from flask>=0.12.2->parameter-sherpa) (2.11.2)\n",
      "Requirement already satisfied: itsdangerous>=0.24 in /opt/anaconda3/lib/python3.7/site-packages (from flask>=0.12.2->parameter-sherpa) (1.1.0)\n",
      "Requirement already satisfied: Werkzeug>=0.15 in /opt/anaconda3/lib/python3.7/site-packages (from flask>=0.12.2->parameter-sherpa) (1.0.1)\n",
      "Requirement already satisfied: click>=5.1 in /opt/anaconda3/lib/python3.7/site-packages (from flask>=0.12.2->parameter-sherpa) (7.1.2)\n",
      "Collecting GPy>=1.8\n",
      "  Downloading GPy-1.9.9-cp37-cp37m-macosx_10_9_x86_64.whl (1.5 MB)\n",
      "\u001b[K     |████████████████████████████████| 1.5 MB 42.2 MB/s eta 0:00:01\n",
      "\u001b[?25hRequirement already satisfied: kiwisolver>=1.0.1 in /opt/anaconda3/lib/python3.7/site-packages (from matplotlib->parameter-sherpa) (1.3.0)\n",
      "Requirement already satisfied: pyparsing!=2.0.4,!=2.1.2,!=2.1.6,>=2.0.3 in /opt/anaconda3/lib/python3.7/site-packages (from matplotlib->parameter-sherpa) (2.4.7)\n",
      "Requirement already satisfied: cycler>=0.10 in /opt/anaconda3/lib/python3.7/site-packages (from matplotlib->parameter-sherpa) (0.10.0)\n",
      "Requirement already satisfied: certifi>=2020.06.20 in /opt/anaconda3/lib/python3.7/site-packages (from matplotlib->parameter-sherpa) (2020.12.5)\n",
      "Requirement already satisfied: pillow>=6.2.0 in /opt/anaconda3/lib/python3.7/site-packages (from matplotlib->parameter-sherpa) (8.0.1)\n",
      "Requirement already satisfied: six>=1.5 in /opt/anaconda3/lib/python3.7/site-packages (from python-dateutil>=2.7.3->pandas>=0.20.3->parameter-sherpa) (1.15.0)\n",
      "Requirement already satisfied: MarkupSafe>=0.23 in /opt/anaconda3/lib/python3.7/site-packages (from Jinja2>=2.10.1->flask>=0.12.2->parameter-sherpa) (1.1.1)\n",
      "Collecting paramz>=0.9.0\n",
      "  Downloading paramz-0.9.5.tar.gz (71 kB)\n",
      "\u001b[K     |████████████████████████████████| 71 kB 29.6 MB/s eta 0:00:01\n",
      "\u001b[?25hRequirement already satisfied: decorator>=4.0.10 in /opt/anaconda3/lib/python3.7/site-packages (from paramz>=0.9.0->GPy>=1.8->GPyOpt>=1.2.5->parameter-sherpa) (4.4.2)\n",
      "Building wheels for collected packages: parameter-sherpa, GPyOpt, paramz\n",
      "  Building wheel for parameter-sherpa (setup.py) ... \u001b[?25ldone\n",
      "\u001b[?25h  Created wheel for parameter-sherpa: filename=parameter_sherpa-1.0.6-py2.py3-none-any.whl size=542119 sha256=750cba1ba8c1e29e86ba3236998bfc24b51296335720e8077597425c7b363902\n",
      "  Stored in directory: /Users/kimjinsung/Library/Caches/pip/wheels/96/d9/cb/99569566e5e9b3ef0265ba4cbce3ff16f7692988833aa942f5\n",
      "  Building wheel for GPyOpt (setup.py) ... \u001b[?25ldone\n",
      "\u001b[?25h  Created wheel for GPyOpt: filename=GPyOpt-1.2.6-py3-none-any.whl size=83621 sha256=f2f1540ef92b7cc130983f744d3d5d3383a950f6494d665349483a15034d7bee\n",
      "  Stored in directory: /Users/kimjinsung/Library/Caches/pip/wheels/e6/fa/d1/f9652b5af79f769a0ab74dbead7c7aea9a93c6bc74543fd3ec\n",
      "  Building wheel for paramz (setup.py) ... \u001b[?25ldone\n",
      "\u001b[?25h  Created wheel for paramz: filename=paramz-0.9.5-py3-none-any.whl size=102552 sha256=f86a3283fdb8fdd719d84a3e794576ed45c484deb03b4da6a2f39c7c09c35b8a\n",
      "  Stored in directory: /Users/kimjinsung/Library/Caches/pip/wheels/c8/95/f5/ce28482da28162e6028c4b3a32c41d147395825b3cd62bc810\n",
      "Successfully built parameter-sherpa GPyOpt paramz\n",
      "Installing collected packages: paramz, GPy, GPyOpt, enum34, parameter-sherpa\n",
      "Successfully installed GPy-1.9.9 GPyOpt-1.2.6 enum34-1.1.10 parameter-sherpa-1.0.6 paramz-0.9.5\n",
      "Note: you may need to restart the kernel to use updated packages.\n"
     ]
    }
   ],
   "source": [
    "pip install parameter-sherpa"
   ]
  },
  {
   "cell_type": "code",
   "execution_count": 4,
   "metadata": {},
   "outputs": [],
   "source": [
    "from sklearn.datasets import load_breast_cancer\n",
    "from sklearn.ensemble import RandomForestClassifier\n",
    "from sklearn.model_selection import cross_val_score\n",
    "import time\n",
    "import sherpa\n",
    "import sherpa.algorithms.bayesian_optimization as bayesian_optimization"
   ]
  },
  {
   "cell_type": "code",
   "execution_count": 5,
   "metadata": {},
   "outputs": [],
   "source": [
    "parameters = [sherpa.Discrete('n_estimators', [2, 50]),\n",
    "              sherpa.Choice('criterion', ['gini', 'entropy']),\n",
    "              sherpa.Continuous('max_features', [0.1, 0.9])]\n",
    "\n",
    "algorithm = bayesian_optimization.GPyOpt(max_concurrent=1,model_type='GP_MCMC',acquisition_type='EI_MCMC',max_num_trials=10)"
   ]
  },
  {
   "cell_type": "code",
   "execution_count": null,
   "metadata": {},
   "outputs": [
    {
     "name": "stderr",
     "output_type": "stream",
     "text": [
      "INFO:sherpa.core:\n",
      "-------------------------------------------------------\n",
      "SHERPA Dashboard running. Access via\n",
      "http://218.38.137.28:8880 if on a cluster or\n",
      "http://localhost:8880 if running locally.\n",
      "-------------------------------------------------------\n"
     ]
    },
    {
     "name": "stdout",
     "output_type": "stream",
     "text": [
      " * Serving Flask app \"sherpa.app.app\" (lazy loading)\n",
      " * Environment: production\n",
      "\u001b[31m   WARNING: This is a development server. Do not use it in a production deployment.\u001b[0m\n",
      "\u001b[2m   Use a production WSGI server instead.\u001b[0m\n",
      " * Debug mode: on\n"
     ]
    },
    {
     "name": "stderr",
     "output_type": "stream",
     "text": [
      "INFO:numexpr.utils:Note: NumExpr detected 12 cores but \"NUMEXPR_MAX_THREADS\" not set, so enforcing safe limit of 8.\n",
      "INFO:numexpr.utils:NumExpr defaulting to 8 threads.\n"
     ]
    },
    {
     "name": "stdout",
     "output_type": "stream",
     "text": [
      "Trial  1  with parameters  {'n_estimators': 3, 'criterion': 'entropy', 'max_features': 0.19239756814654047}\n",
      "Score:  0.9349945660611706\n",
      "Trial  2  with parameters  {'n_estimators': 21, 'criterion': 'entropy', 'max_features': 0.4970068701755569}\n",
      "Score:  0.9630957925787922\n",
      "Trial  3  with parameters  {'n_estimators': 5, 'criterion': 'gini', 'max_features': 0.6409155700963638}\n",
      "Score:  0.9490917559385188\n",
      "Trial  4  with parameters  {'n_estimators': 44, 'criterion': 'gini', 'max_features': 0.6980255317214328}\n"
     ]
    },
    {
     "name": "stderr",
     "output_type": "stream",
     "text": [
      "INFO:GP:initializing Y\n",
      "INFO:GP:initializing inference method\n",
      "INFO:GP:adding kernel and likelihood as parameters\n",
      "WARNING:rbf:reconstraining parameters GP_regression.rbf\n",
      "WARNING:variance:reconstraining parameters GP_regression.Gaussian_noise.variance\n"
     ]
    },
    {
     "name": "stdout",
     "output_type": "stream",
     "text": [
      "Score:  0.9648967551622418\n",
      "Trial  5  with parameters  {'n_estimators': 44, 'criterion': 'gini', 'max_features': 0.2447209954513944}\n"
     ]
    },
    {
     "name": "stderr",
     "output_type": "stream",
     "text": [
      "INFO:GP:initializing Y\n",
      "INFO:GP:initializing inference method\n",
      "INFO:GP:adding kernel and likelihood as parameters\n",
      "WARNING:rbf:reconstraining parameters GP_regression.rbf\n",
      "WARNING:variance:reconstraining parameters GP_regression.Gaussian_noise.variance\n"
     ]
    },
    {
     "name": "stdout",
     "output_type": "stream",
     "text": [
      "Score:  0.9648812296227295\n",
      "Trial  6  with parameters  {'n_estimators': 44, 'criterion': 'gini', 'max_features': 0.6534034853521852}\n"
     ]
    },
    {
     "name": "stderr",
     "output_type": "stream",
     "text": [
      "INFO:GP:initializing Y\n",
      "INFO:GP:initializing inference method\n",
      "INFO:GP:adding kernel and likelihood as parameters\n",
      "WARNING:rbf:reconstraining parameters GP_regression.rbf\n",
      "WARNING:variance:reconstraining parameters GP_regression.Gaussian_noise.variance\n"
     ]
    },
    {
     "name": "stdout",
     "output_type": "stream",
     "text": [
      "Score:  0.9648812296227295\n",
      "Trial  7  with parameters  {'n_estimators': 41, 'criterion': 'entropy', 'max_features': 0.4965014876300164}\n"
     ]
    },
    {
     "name": "stderr",
     "output_type": "stream",
     "text": [
      "INFO:GP:initializing Y\n",
      "INFO:GP:initializing inference method\n",
      "INFO:GP:adding kernel and likelihood as parameters\n",
      "WARNING:rbf:reconstraining parameters GP_regression.rbf\n",
      "WARNING:variance:reconstraining parameters GP_regression.Gaussian_noise.variance\n"
     ]
    },
    {
     "name": "stdout",
     "output_type": "stream",
     "text": [
      "Score:  0.9648812296227295\n",
      "Trial  8  with parameters  {'n_estimators': 13, 'criterion': 'gini', 'max_features': 0.9}\n",
      "Score:  0.9595714951094549\n"
     ]
    },
    {
     "name": "stderr",
     "output_type": "stream",
     "text": [
      "INFO:GP:initializing Y\n",
      "INFO:GP:initializing inference method\n",
      "INFO:GP:adding kernel and likelihood as parameters\n",
      "WARNING:rbf:reconstraining parameters GP_regression.rbf\n",
      "WARNING:variance:reconstraining parameters GP_regression.Gaussian_noise.variance\n"
     ]
    }
   ],
   "source": [
    "X, y = load_breast_cancer(return_X_y=True)\n",
    "study = sherpa.Study(parameters=parameters,\n",
    "                     algorithm=algorithm,\n",
    "                     lower_is_better=False)\n",
    "\n",
    "for trial in study:\n",
    "    print(\"Trial \", trial.id, \" with parameters \", trial.parameters)\n",
    "    clf = RandomForestClassifier(criterion=trial.parameters['criterion'],\n",
    "                                 max_features=trial.parameters['max_features'],\n",
    "                                 n_estimators=trial.parameters['n_estimators'],\n",
    "                                 random_state=0)\n",
    "    scores = cross_val_score(clf, X, y, cv=5)\n",
    "    print(\"Score: \", scores.mean())\n",
    "    study.add_observation(trial, iteration=1, objective=scores.mean())\n",
    "    study.finalize(trial)\n",
    "print(study.get_best_result())"
   ]
  },
  {
   "cell_type": "code",
   "execution_count": null,
   "metadata": {},
   "outputs": [],
   "source": []
  }
 ],
 "metadata": {
  "kernelspec": {
   "display_name": "Python 3",
   "language": "python",
   "name": "python3"
  },
  "language_info": {
   "codemirror_mode": {
    "name": "ipython",
    "version": 3
   },
   "file_extension": ".py",
   "mimetype": "text/x-python",
   "name": "python",
   "nbconvert_exporter": "python",
   "pygments_lexer": "ipython3",
   "version": "3.7.7"
  }
 },
 "nbformat": 4,
 "nbformat_minor": 4
}
